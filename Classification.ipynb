{
 "cells": [
  {
   "cell_type": "markdown",
   "id": "e7fcacfa",
   "metadata": {},
   "source": [
    "## Assignment- 1"
   ]
  },
  {
   "cell_type": "markdown",
   "id": "80d831db",
   "metadata": {},
   "source": [
    "# Question -1:  (Showing data)"
   ]
  },
  {
   "cell_type": "code",
   "execution_count": 1,
   "id": "6f653ac7",
   "metadata": {},
   "outputs": [],
   "source": [
    "#Importing required packages\n",
    "import numpy as np\n",
    "import pandas as pd\n",
    "from sklearn.model_selection import train_test_split\n",
    "import sklearn.metrics\n",
    "from sklearn import datasets\n",
    "import matplotlib.pyplot as plt\n",
    "from matplotlib.colors import ListedColormap\n",
    "from sklearn.metrics import roc_curve\n",
    "from sklearn.metrics import roc_auc_score\n",
    "from sklearn.metrics import precision_recall_curve\n",
    "from sklearn.metrics import auc\n",
    "from collections import Counter\n",
    "from sklearn.metrics import accuracy_score\n",
    "from sklearn.dummy import DummyClassifier\n",
    "from sklearn.neighbors import KNeighborsClassifier\n",
    "from sklearn.linear_model import Perceptron\n",
    "from sklearn.naive_bayes import GaussianNB\n",
    "from sklearn.linear_model import LogisticRegression\n",
    "from sklearn.svm import SVC  \n",
    "from sklearn.model_selection import GridSearchCV\n",
    "from sklearn.model_selection import StratifiedKFold\n",
    "from sklearn.decomposition import PCA\n",
    "import random\n",
    "import statistics\n",
    "from sklearn import preprocessing\n",
    "import warnings\n",
    "warnings.filterwarnings('ignore')"
   ]
  },
  {
   "cell_type": "markdown",
   "id": "851ed89a",
   "metadata": {},
   "source": [
    "## i. How many training and test examples are there? You can use np.loadtxt for this purpose. Show at least 10 randomly selected objects of each class using plt.matshow. "
   ]
  },
  {
   "cell_type": "code",
   "execution_count": 2,
   "id": "50fd6ff6",
   "metadata": {},
   "outputs": [
    {
     "name": "stdout",
     "output_type": "stream",
     "text": [
      "Training dataset:  (3000, 784)\n",
      "Training labels:  (3000,)\n",
      "Testing dataset:  (3000, 784)\n"
     ]
    }
   ],
   "source": [
    "#Importing the dataset\n",
    "X_train=np.loadtxt(\"Xtrain.txt\")#Loading the training sample data. \n",
    "X_test=np.loadtxt(\"Xtest.txt\")#Loading the testing sample data\n",
    "Y_train=np.loadtxt(\"Ytrain.txt\")#Loading the training sample dataset labels\n",
    "print(\"Training dataset: \", X_train.shape)#Number of samples= 3000, Number of vector dimensions/features=784\n",
    "print(\"Training labels: \",Y_train.shape)#Total numnber of classes= 2(+1,-1) and there are total 3000 labels for each row of the sample training dataset\n",
    "print(\"Testing dataset: \", X_test.shape)#Number of samples= 3000, Number of vector dimensions/features=784\n"
   ]
  },
  {
   "cell_type": "markdown",
   "id": "91364e02",
   "metadata": {},
   "source": [
    "### •  Xtrain.txt:\n",
    "#### It is the training dataset which contains 3000 rows and each row contains 784 columns(features).\n",
    "### • Ytrain.txt:\n",
    "#### It is the training labels which 3000 rows each depicting the label of each row in the training dataset.\n",
    "### • Xtest.txt:\n",
    "#### It is the training dataset which contains 3000 rows which 784 features(columns). No testing labels are provided for this dataset.\n"
   ]
  },
  {
   "cell_type": "code",
   "execution_count": 3,
   "id": "fd9bf258",
   "metadata": {},
   "outputs": [
    {
     "name": "stdout",
     "output_type": "stream",
     "text": [
      "      Labels                                              Array\n",
      "0        1.0  [0.0, 0.0, 25.0, 0.0, 71.0, 52.0, 53.0, 0.0, 0...\n",
      "1       -1.0  [82.0, 62.0, 26.0, 15.0, 25.0, 53.0, 34.0, 40....\n",
      "2        1.0  [0.0, 0.0, 55.0, 0.0, 0.0, 10.0, 0.0, 0.0, 10....\n",
      "3        1.0  [0.0, 70.0, 0.0, 0.0, 0.0, 25.0, 38.0, 0.0, 0....\n",
      "4        1.0  [9.0, 36.0, 0.0, 69.0, 14.0, 0.0, 0.0, 47.0, 6...\n",
      "...      ...                                                ...\n",
      "2995    -1.0  [0.0, 0.0, 40.0, 52.0, 0.0, 0.0, 18.0, 63.0, 1...\n",
      "2996     1.0  [0.0, 0.0, 0.0, 48.0, 0.0, 0.0, 24.0, 17.0, 56...\n",
      "2997     1.0  [0.0, 0.0, 23.0, 85.0, 0.0, 4.0, 0.0, 0.0, 17....\n",
      "2998    -1.0  [0.0, 0.0, 23.0, 1.0, 0.0, 61.0, 0.0, 0.0, 0.0...\n",
      "2999     1.0  [35.0, 0.0, 0.0, 0.0, 0.0, 0.0, 0.0, 0.0, 136....\n",
      "\n",
      "[3000 rows x 2 columns]\n"
     ]
    }
   ],
   "source": [
    "#Creating a dataframe showing how labels relate to the image dataset for training dataset\n",
    "data={\"Labels\": Y_train,\"Array\": list(X_train) }\n",
    "_X=pd.DataFrame(data)\n",
    "print(_X)"
   ]
  },
  {
   "cell_type": "code",
   "execution_count": 4,
   "id": "f58e4365",
   "metadata": {},
   "outputs": [
    {
     "name": "stdout",
     "output_type": "stream",
     "text": [
      "[397, 28, 564, 504, 91, 823, 21, 872, 684, 37]\n",
      "[2004, 2427, 1080, 1262, 2123, 2676, 1344, 2855, 2718, 1818]\n"
     ]
    }
   ],
   "source": [
    "#Extraction of random indexes to get 10 objects for each class. \n",
    "_X=_X.sort_values(by=\"Labels\")#Sorting dataset\n",
    "neg_index=[]#List to store 10 random negative class indexes.\n",
    "pos_index=[]#List to store 10 random negative class indexes.\n",
    "#Creating 10 indexes each for positive and negative classes.\n",
    "for i in range(0,10):\n",
    "    neg_index.append(random.randint(0, 882))\n",
    "    pos_index.append(random.randint(883,2999))\n",
    "print(neg_index)\n",
    "print(pos_index)"
   ]
  },
  {
   "cell_type": "code",
   "execution_count": 5,
   "id": "107ecd36",
   "metadata": {},
   "outputs": [],
   "source": [
    "#Extracting the data from the X_train\n",
    "array_pos=[]#array to store 10 random objects with positive labels.\n",
    "for i in pos_index:\n",
    "    array_pos.append(_X.at[i,\"Array\"])\n",
    "#print(array_pos)\n",
    "array_neg=[]#array to store 10 random objects with negative labels.\n",
    "for i in neg_index:\n",
    "    array_neg.append(_X.at[i,\"Array\"])\n",
    "#print(array_neg)"
   ]
  },
  {
   "cell_type": "code",
   "execution_count": 6,
   "id": "4a727ccb",
   "metadata": {},
   "outputs": [
    {
     "name": "stdout",
     "output_type": "stream",
     "text": [
      "Text(0.5, 1.0, '10 randomly selected objects of +1 class')\n"
     ]
    },
    {
     "data": {
      "image/png": "[encoded data removed]",
      "text/plain": [
       "<Figure size 1080x360 with 20 Axes>"
      ]
     },
     "metadata": {
      "needs_background": "light"
     },
     "output_type": "display_data"
    }
   ],
   "source": [
    "#Visualisation- !0 random objects with positive labels\n",
    "fig=plt.figure(figsize=(15,5))\n",
    "print(plt.title(\"10 randomly selected objects of +1 class\"))\n",
    "for i in range(1,11):\n",
    "    plt.subplot(2,5,i)\n",
    "    plt.matshow(np.resize(array_pos[i-1],(28,28)),fignum=False)\n",
    "    plt.colorbar()"
   ]
  },
  {
   "cell_type": "code",
   "execution_count": 7,
   "id": "2da77d59",
   "metadata": {},
   "outputs": [
    {
     "data": {
      "image/png": "[encoded data removed]",
      "text/plain": [
       "<Figure size 1080x360 with 20 Axes>"
      ]
     },
     "metadata": {
      "needs_background": "light"
     },
     "output_type": "display_data"
    }
   ],
   "source": [
    "#Visualisation- 10 random objects with negative labels\n",
    "fig=plt.figure(figsize=(15,5))\n",
    "plt.title(\"10 randomly selected objects of -1 class\")\n",
    "for i in range(1,11):\n",
    "    plt.subplot(2,5,i)\n",
    "    plt.matshow(np.resize(array_neg[i-1],(28,28)),fignum=False)\n",
    "    plt.colorbar()"
   ]
  },
  {
   "cell_type": "markdown",
   "id": "eeac14c7",
   "metadata": {},
   "source": [
    "## ii. How many positive and negative examples are there in the training dataset?"
   ]
  },
  {
   "cell_type": "code",
   "execution_count": 8,
   "id": "29f847ac",
   "metadata": {},
   "outputs": [
    {
     "name": "stdout",
     "output_type": "stream",
     "text": [
      " 1.0    2118\n",
      "-1.0     882\n",
      "Name: Labels, dtype: int64\n"
     ]
    }
   ],
   "source": [
    "print(_X[\"Labels\"].value_counts())#Positive examples=2118, Negative examples=882"
   ]
  },
  {
   "cell_type": "markdown",
   "id": "1e8cb9d0",
   "metadata": {},
   "source": [
    "###  • Positive examples (+1) :  2118\n",
    "###  • Negative examples (-1) :  882"
   ]
  },
  {
   "cell_type": "markdown",
   "id": "93f23b28",
   "metadata": {},
   "source": [
    "## iii. Which performance metric (accuracy, AUC-ROC and AUC-PR) should be used? Give your reasoning. "
   ]
  },
  {
   "cell_type": "markdown",
   "id": "c6d7e86c",
   "metadata": {},
   "source": [
    "### Answer:\n",
    "### AUC-ROC will always be the same no matter what the baseline probability. This will be a good evaluation metric in this case  because it will answer the question of how well the model is performing with no knowledge of the class imbalance.\n",
    "### It is important to note that AUC-ROC should not be used if there is a large skew in the data distribution as it will give  a overly optimistic view of the algorithm. \n",
    "### On analysing the dataset, we can see that the number of positive labeled data is more than the negative labeled data. \n",
    "### Accuracy which is a ratio of correct predictions and total predictions, cannot be a good evaluation metric in this case because classification accuracy fails on classification problems where the training data is having a skewed distribution. \n",
    "### AUC-PR is good  for imbalanced datatsets but most of the classifier we use in machine learning are used for accurately predicting the minority class (example: prediction of number of people who have cancer, fraud detection etc. ). Such a classifier maximises the recall which is the ability of the model to find the most relevant data points. As recall is inversely proportional to precision. Increase in recall will lead to a decrease in precision producing a lesser AUC-PR score. \n",
    "\n",
    "\n",
    "\n",
    "\n",
    "\n",
    "\n"
   ]
  },
  {
   "cell_type": "markdown",
   "id": "a243c6b6",
   "metadata": {},
   "source": [
    "## iv. What is the expected accuracy of a random classifier (one that generates random labels for a given example) for this problem over the training and test datasets? Demonstrate why this would be the case."
   ]
  },
  {
   "cell_type": "code",
   "execution_count": 9,
   "id": "2e57dec2",
   "metadata": {},
   "outputs": [],
   "source": [
    "#Splitting the X_train into Xtr(training dataset) and Xval(validation dataset)\n",
    "#Splitting the Y_test into Ytr(training labels  and Yval(validation dataset))\n",
    "Xtr,Xval,Ytr,Yval=train_test_split(X_train,Y_train,test_size=0.5, random_state=2)"
   ]
  },
  {
   "cell_type": "code",
   "execution_count": 10,
   "id": "c355a6d2",
   "metadata": {},
   "outputs": [
    {
     "name": "stdout",
     "output_type": "stream",
     "text": [
      "Accuracy for training dataset: 0.576\n",
      "Accuracy of the valuation dataset: 0.5593333333333333\n"
     ]
    }
   ],
   "source": [
    "#Fitting training dataset and finding its accuracy.\n",
    "dummy_clf = DummyClassifier(strategy=\"stratified\")#Strategy that randomly generates the labels.\n",
    "dummy_clf.fit(Xtr, Ytr)\n",
    "Ytr_pred=dummy_clf.predict(Xtr)\n",
    "Acc_tr=accuracy_score(Ytr,Ytr_pred)\n",
    "print(\"Accuracy for training dataset: \"+str(Acc_tr))#Accuracy for training dataset\n",
    "#Fitting validation dataset and finding its accuracy.\n",
    "Yval_pred=dummy_clf.predict(Xval)\n",
    "Yval_pred_proba=dummy_clf.predict_proba(Xval)\n",
    "Acc=accuracy_score(Yval,Yval_pred)#Accuracy for validation dataset\n",
    "print(\"Accuracy of the valuation dataset: \"+str(Acc))"
   ]
  },
  {
   "cell_type": "markdown",
   "id": "49b76c44",
   "metadata": {},
   "source": [
    "### Answer:\n",
    "### We are getting very less accuracy in the case because dummy classifier does not generate any insight about the data and classifies the given data using only simple rules. Since, I have used the stratified strategy while defining my dummy classifier, it is predicting labels by associating probability with each data point of being the most frequent class label."
   ]
  },
  {
   "cell_type": "code",
   "execution_count": 11,
   "id": "199dab05",
   "metadata": {},
   "outputs": [
    {
     "name": "stdout",
     "output_type": "stream",
     "text": [
      "[-1.  1.  1. ... -1.  1.  1.]\n"
     ]
    }
   ],
   "source": [
    "print(Yval_pred)#Predicted laabels for valuation dataset."
   ]
  },
  {
   "cell_type": "code",
   "execution_count": 12,
   "id": "2d3b9ddf",
   "metadata": {},
   "outputs": [
    {
     "data": {
      "text/plain": [
       "array([[0., 1.],\n",
       "       [0., 1.],\n",
       "       [0., 1.],\n",
       "       ...,\n",
       "       [0., 1.],\n",
       "       [0., 1.],\n",
       "       [1., 0.]])"
      ]
     },
     "execution_count": 12,
     "metadata": {},
     "output_type": "execute_result"
    }
   ],
   "source": [
    "dummy_clf.predict_proba(X_test)#Fitting the testing dataset.\n",
    "#dummy_clf.score(X_test,Y_test)#To test the accuracy of dummy classifier for the test dataset."
   ]
  },
  {
   "cell_type": "markdown",
   "id": "fb630a36",
   "metadata": {},
   "source": [
    "## v. What is the AUC-ROC and AUC-PR of a random classifier for this problem over the training and test datasets? Demonstrate why this would be the case."
   ]
  },
  {
   "cell_type": "code",
   "execution_count": 13,
   "id": "3548c96a",
   "metadata": {},
   "outputs": [
    {
     "name": "stdout",
     "output_type": "stream",
     "text": [
      "AUC-ROC score for Random Classifier: 0.48345938431740687\n"
     ]
    },
    {
     "data": {
      "image/png": "[encoded data removed]",
      "text/plain": [
       "<Figure size 576x396 with 1 Axes>"
      ]
     },
     "metadata": {},
     "output_type": "display_data"
    }
   ],
   "source": [
    "#Area under the curve(AUC)- Receiver operating charateristic curve(ROC)\n",
    "fpr, tpr, threshold = roc_curve(Yval, Yval_pred_proba[:,1], pos_label=1)#Calculating the False Positive rate(fpr) and True Positive rate(tpr) for the random classifier.\n",
    "auc_score = roc_auc_score(Yval, Yval_pred_proba[:,1])#Calculating the AUC score\n",
    "print(\"AUC-ROC score for Random Classifier: \"+str(auc_score))\n",
    "# plot roc curves\n",
    "plt.style.use('seaborn')\n",
    "plt.plot(fpr, tpr, linestyle='--',color='purple', label='Random classifier')\n",
    "# title\n",
    "plt.title('ROC curve')\n",
    "# x label\n",
    "plt.xlabel('False Positive Rate')\n",
    "# y label\n",
    "plt.ylabel('True Positive rate')\n",
    "plt.legend(loc='best')\n",
    "plt.savefig('ROC',dpi=300)\n",
    "plt.show();\n"
   ]
  },
  {
   "cell_type": "markdown",
   "id": "068d00a7",
   "metadata": {},
   "source": [
    "### Answer:\n",
    "### ROC-AUC curve: if the Random classifier (Dummy classifier) is classifying a k fraction of our cases as positive then, due randomness the same k fraction of k cases will be positive which will give us the true positives and the same k fraction cases should give us the negatives which will give us the false positives. Due to this, the false positive rate (FPR) and the true positive rate (TPR) will be the same.\n",
    "### Geometrically, this condition will give us the line y=x on the roc- curve, That is why we are getting a straight line as our curve.\n",
    "### ROC-AUC score of random classifier is close to 0.5 which means that for every correct prediction, the next prediction will be incorrect. "
   ]
  },
  {
   "cell_type": "code",
   "execution_count": 14,
   "id": "b3c30b2a",
   "metadata": {},
   "outputs": [
    {
     "name": "stdout",
     "output_type": "stream",
     "text": [
      "AUC-PR score for Random Classifier:  0.8001443497553158\n"
     ]
    },
    {
     "data": {
      "image/png": "[encoded data removed]",
      "text/plain": [
       "<Figure size 576x396 with 1 Axes>"
      ]
     },
     "metadata": {},
     "output_type": "display_data"
    }
   ],
   "source": [
    "#Area under the curve(AUC)- Precision(PR)\n",
    "precision,recall,thresholds = sklearn.metrics.precision_recall_curve(Yval,Yval_pred_proba[:,1])#Calculating precision, recall and thresholds for the random classifier.\n",
    "auc_prec =auc(recall, precision)\n",
    "print(\"AUC-PR score for Random Classifier: \",str(+auc_prec) )\n",
    "plt.plot(recall, precision, linestyle=\"--\", label='RandomClassifier',color=\"purple\")\n",
    "# axis labels\n",
    "plt.xlabel('Recall')\n",
    "plt.ylabel('Precision')\n",
    "# show the legend\n",
    "plt.legend()\n",
    "# show the plot\n",
    "plt.show()"
   ]
  },
  {
   "cell_type": "markdown",
   "id": "2af750ed",
   "metadata": {},
   "source": [
    "### Precision- Recall curve: \n",
    "### We should also get AUC-PR score close to 0.5, but as precision is greatly affected if the data is imbalanced that is why we are getting such a high value of AUC-PR score.\n",
    "### This also represents that for every correct prediction, the next prediction will be incorrect which will be highly affected if the training data is imbalanced. "
   ]
  },
  {
   "cell_type": "markdown",
   "id": "141a53d4",
   "metadata": {},
   "source": [
    "# Question- 2:  (Nearest Neighbor Classifier) "
   ]
  },
  {
   "cell_type": "code",
   "execution_count": 15,
   "id": "4289b97d",
   "metadata": {},
   "outputs": [],
   "source": [
    "#Function to calculate the roc-auc score using true labels and predicted labels.\n",
    "def _aucRoc(x,y):\n",
    "    auc_roc=roc_auc_score(x,y)\n",
    "    return auc_roc\n",
    "    "
   ]
  },
  {
   "cell_type": "code",
   "execution_count": 16,
   "id": "061aa913",
   "metadata": {},
   "outputs": [],
   "source": [
    "#Function to calculate the roc-precision score using true labels and predicted labels.\n",
    "def _aucPrec(x,y):\n",
    "    precision,recall,threshold = precision_recall_curve(x,y)\n",
    "    auc_prec =auc(recall, precision)\n",
    "    return auc_prec"
   ]
  },
  {
   "cell_type": "markdown",
   "id": "5014051c",
   "metadata": {},
   "source": [
    " ## i. What is the prediction accuracy, AUC-ROC and AUC-PR for each fold using this classifier? "
   ]
  },
  {
   "cell_type": "code",
   "execution_count": 17,
   "id": "4e4224ee",
   "metadata": {},
   "outputs": [
    {
     "name": "stdout",
     "output_type": "stream",
     "text": [
      "Accuracy for Fold 1 is 0.74\n",
      "AUC-ROC score 1 is 0.708029588336192\n",
      "AUC-Precision score 1 is 0.8868637211213299\n",
      "Accuracy for Fold 2 is 0.76\n",
      "AUC-ROC score 2 is 0.7321505145797599\n",
      "AUC-Precision score 2 is 0.8964768812616541\n",
      "Accuracy for Fold 3 is 0.74\n",
      "AUC-ROC score 3 is 0.7130145797598627\n",
      "AUC-Precision score 3 is 0.8884026440764985\n",
      "Accuracy for Fold 4 is 0.7383333333333333\n",
      "AUC-ROC score 4 is 0.712565612854109\n",
      "AUC-Precision score 4 is 0.8873863429714495\n",
      "Accuracy for Fold 5 is 0.755\n",
      "AUC-ROC score 5 is 0.7293144208037826\n",
      "AUC-Precision score 5 is 0.8944413243570819\n"
     ]
    }
   ],
   "source": [
    "#Defining the number of stratified K folds.\n",
    "strat_k_fold = StratifiedKFold(n_splits=5)\n",
    "strat_k_fold.get_n_splits(X_train, Y_train)\n",
    "StratifiedKFold(n_splits=5, random_state=None, shuffle=False)\n",
    "acc=[]#List to store accuracy of each fold.\n",
    "auc_roc_score=[]#List to store roc-auc score for each fold.\n",
    "auc_prec_score=[]#List to store precision-auc score for each fold.\n",
    "for train_index, test_index in strat_k_fold.split(X_train, Y_train):\n",
    "    Xtr, Xte = X_train[train_index], X_train[test_index]#Splitting training data(X_train).\n",
    "    Ytr, Yte = Y_train[train_index], Y_train[test_index]#Splitting training labels(Y_train).\n",
    "    KNN= KNeighborsClassifier(n_neighbors=1)#defining the classifier that uses only 1 nearest neighbour.\n",
    "    KNN.fit(Xtr,Ytr)#Fitting the training data \n",
    "    Yte_pred= KNN.predict(Xte)#Predicting the labels for Xte(testing dataset)\n",
    "    Yte_pred_proba=KNN.predict_proba(Xte)#Predicting the probabilities for the target label.\n",
    "    Acc=accuracy_score(Yte,Yte_pred)#Calculting accuracy for each fold\n",
    "    acc.append(Acc)\n",
    "    auc_roc_score.append(_aucRoc(Yte,Yte_pred_proba[:,1]))#Calculating roc-auc score for each fold\n",
    "    auc_prec_score.append(_aucPrec(Yte,Yte_pred_proba[:,1]))#Calculating precison-auc score each fold\n",
    "for i in range(len(acc)):\n",
    "    print(\"Accuracy for Fold \"+str(i+1)+\" is \"+str(acc[i]))\n",
    "    print(\"AUC-ROC score \"+str(i+1)+\" is \"+str(auc_roc_score[i]))\n",
    "    print(\"AUC-Precision score \"+str(i+1)+\" is \"+str(auc_prec_score[i]))"
   ]
  },
  {
   "cell_type": "markdown",
   "id": "15c5230a",
   "metadata": {},
   "source": [
    "### Accuracy, AUC-ROC and AUC-PR for each fold after applying the KNN classifier:\n",
    "| KNN↓ | Accuracy | AUC-ROC score | AUC-PR score |\n",
    "| --- | --- | --- | --- |        \n",
    "|Fold- 1| 0.74 | 0.708 | 0.887 |\n",
    "|Fold- 2| 0.76 | 0.732 | 0.896 |\n",
    "|Fold- 3| 0.74 | 0.713 | 0.888 |\n",
    "|Fold- 4| 0.738| 0.712 | 0.887 |\n",
    "|Fold- 5| 0.755 | 0.729| 0.894 |\n"
   ]
  },
  {
   "cell_type": "markdown",
   "id": "c94edff0",
   "metadata": {},
   "source": [
    "## ii. What is the mean and standard deviation of each performance metric (accuracy, AUCROC and AUC-PR)across all the folds for this classifier? Show code to demonstrate the results."
   ]
  },
  {
   "cell_type": "code",
   "execution_count": 18,
   "id": "16138a82",
   "metadata": {},
   "outputs": [
    {
     "name": "stdout",
     "output_type": "stream",
     "text": [
      "Mean of Accuracy across all folds: 0.7466666666666667\n",
      "Standard Deviation of Accuracy across all folds: 0.010069204977995494\n",
      "Mean of AUCROC score across all folds: 0.7190149432667412\n",
      "Standard Deviation of AUC-ROC score across all folds: 0.010919005439960442\n",
      "Mean of AUCPR score across all folds: 0.8907141827576028\n",
      "Standard Deviation of AUC-PR score across all folds: 0.004425609056393221\n"
     ]
    }
   ],
   "source": [
    "#Mean of accuracy\n",
    "print(\"Mean of Accuracy across all folds: \"+str(statistics.mean(acc)))\n",
    "#Standard Deviation of accuracy\n",
    "print(\"Standard Deviation of Accuracy across all folds: \"+str(statistics.stdev(acc)))\n",
    "#Mean of AUCROC\n",
    "print(\"Mean of AUCROC score across all folds: \"+str(statistics.mean(auc_roc_score)))\n",
    "#Standard Deviation of AUCROC\n",
    "print(\"Standard Deviation of AUC-ROC score across all folds: \"+str(statistics.stdev(auc_roc_score)))\n",
    "#Mean of AUCPR\n",
    "print(\"Mean of AUCPR score across all folds: \"+str(statistics.mean(auc_prec_score)))\n",
    "#Standard Deviation of AUCPR\n",
    "print(\"Standard Deviation of AUC-PR score across all folds: \"+str(statistics.stdev(auc_prec_score)))"
   ]
  },
  {
   "cell_type": "markdown",
   "id": "e75d44f9",
   "metadata": {},
   "source": [
    "#### Mean and standard deviation of Accuracy, AUC-ROC and AUC-PR after using KNN classifier:\n",
    "| KNN ↓ | Accuracy | AUC-ROC | AUC-PR |\n",
    "| --- | --- | --- | --- |\n",
    "|Mean| 0.747 | 0.719 | 0.890 |\n",
    "|Std. dev. | 0.0100 | 0.0109 | 0.0044 | \n"
   ]
  },
  {
   "cell_type": "markdown",
   "id": "d9acb8f7",
   "metadata": {},
   "source": [
    "## iii.What is the impact of various forms of pre-processing (https://scikitlearn.org/stable/modules/preprocessing.html ) on the cross-validation performance?Show code to demonstrate the results."
   ]
  },
  {
   "cell_type": "code",
   "execution_count": 19,
   "id": "4e79d07e",
   "metadata": {},
   "outputs": [
    {
     "name": "stdout",
     "output_type": "stream",
     "text": [
      "Mean of Accuracy across all folds after applying StandardScaler: 0.745\n",
      "Mean of AUCROC score across all folds after applying StandardScaler: 0.711238866442047\n",
      "Mean of AUCPR score across all folds after applying StandardScaler: 0.8881184257360704\n"
     ]
    }
   ],
   "source": [
    "#Performing StandardScaler\n",
    "#Ignoring the shape of the distribution and just transforming the data to center it by removing the mean value of each feature, then scaling it by dividing non-constant features by their standard deviation.\n",
    "Xtrain_scaler=preprocessing.StandardScaler().fit(X_train)\n",
    "Xtrain_scaled =Xtrain_scaler.transform(X_train)\n",
    "strat_k_fold = StratifiedKFold(n_splits=5)\n",
    "strat_k_fold.get_n_splits(Xtrain_scaled, Y_train)\n",
    "StratifiedKFold(n_splits=5, random_state=None, shuffle=False)\n",
    "acc=[]\n",
    "auc_roc_score=[]\n",
    "auc_prec_score=[]\n",
    "for train_index, test_index in strat_k_fold.split(Xtrain_scaled, Y_train):\n",
    "    Xtr, Xte = Xtrain_scaled[train_index], Xtrain_scaled[test_index]\n",
    "    Ytr, Yte = Y_train[train_index], Y_train[test_index]\n",
    "    KNN= KNeighborsClassifier(n_neighbors=1)\n",
    "    KNN.fit(Xtr,Ytr)\n",
    "    Yte_pred= KNN.predict(Xte)\n",
    "    Yte_pred_proba=KNN.predict_proba(Xte)\n",
    "    Acc=accuracy_score(Yte,Yte_pred)\n",
    "    acc.append(Acc)\n",
    "    auc_roc_score.append(_aucRoc(Yte,Yte_pred_proba[:,1]))\n",
    "    auc_prec_score.append(_aucPrec(Yte,Yte_pred_proba[:,1]))\n",
    "#Mean of accuracy\n",
    "print(\"Mean of Accuracy across all folds after applying StandardScaler: \"+str(statistics.mean(acc)))\n",
    "#Mean of AUCROC\n",
    "print(\"Mean of AUCROC score across all folds after applying StandardScaler: \"+str(statistics.mean(auc_roc_score)))\n",
    "#Mean of AUCPR\n",
    "print(\"Mean of AUCPR score across all folds after applying StandardScaler: \"+str(statistics.mean(auc_prec_score)))\n"
   ]
  },
  {
   "cell_type": "code",
   "execution_count": 20,
   "id": "dbabec11",
   "metadata": {},
   "outputs": [
    {
     "name": "stdout",
     "output_type": "stream",
     "text": [
      "Mean of Accuracy across all folds after applying MinMaxScaler: 0.7473333333333333\n",
      "Mean of AUCROC across all folds after applying MinMaxScaler: 0.7168398397387589\n",
      "Mean of AUCPR across all folds after applying MinMaxScaler: 0.8901116262106059\n"
     ]
    }
   ],
   "source": [
    "#Performing MinMaxScaler\n",
    "#Standardizing using MinmMaxScaler- Scaling features to lie between a given minimum and maximum value, which is between zero and one in this case.\n",
    "min_max_scaler = preprocessing.MinMaxScaler()\n",
    "Xtrain_minmax = min_max_scaler.fit_transform(X_train)\n",
    "strat_k_fold = StratifiedKFold(n_splits=5)\n",
    "strat_k_fold.get_n_splits(Xtrain_minmax, Y_train)\n",
    "StratifiedKFold(n_splits=5, random_state=None, shuffle=False)\n",
    "acc=[]\n",
    "auc_roc_score=[]\n",
    "auc_prec_score=[]\n",
    "for train_index, test_index in strat_k_fold.split(Xtrain_minmax , Y_train):\n",
    "    Xtr, Xte = Xtrain_minmax [train_index], Xtrain_minmax [test_index]\n",
    "    Ytr, Yte = Y_train[train_index], Y_train[test_index]\n",
    "    KNN= KNeighborsClassifier(n_neighbors=1)\n",
    "    KNN.fit(Xtr,Ytr)\n",
    "    Yte_pred= KNN.predict(Xte)\n",
    "    Yte_pred_proba=KNN.predict_proba(Xte)\n",
    "    Acc=accuracy_score(Yte,Yte_pred)\n",
    "    acc.append(Acc)\n",
    "    auc_roc_score.append(_aucRoc(Yte,Yte_pred_proba[:,1]))\n",
    "    auc_prec_score.append(_aucPrec(Yte,Yte_pred_proba[:,1]))\n",
    "#Mean of accuracy\n",
    "print(\"Mean of Accuracy across all folds after applying MinMaxScaler: \"+str(statistics.mean(acc)))\n",
    "#Mean of AUCROC\n",
    "print(\"Mean of AUCROC across all folds after applying MinMaxScaler: \"+str(statistics.mean(auc_roc_score)))\n",
    "#Mean of AUCPR\n",
    "print(\"Mean of AUCPR across all folds after applying MinMaxScaler: \"+str(statistics.mean(auc_prec_score)))\n"
   ]
  },
  {
   "cell_type": "code",
   "execution_count": 21,
   "id": "5e3f5903",
   "metadata": {},
   "outputs": [
    {
     "name": "stdout",
     "output_type": "stream",
     "text": [
      "Mean of Accuracy across all folds after applying MaxAbsScaler: 0.7473333333333333\n",
      "Mean of AUCROC score across all folds after applying MaxAbsScaler: 0.7168398397387589\n",
      "Mean of AUCPR score across all folds after applying MaxAbsScaler: 0.8901116262106059\n"
     ]
    }
   ],
   "source": [
    "#Performing MaxAbsScaler \n",
    "#Scaling the training data within the range of [-1, 1] by dividing through the largest maximum value in each feature. It is meant for data that is already centered at zero or sparse data.\n",
    "max_abs_scaler = preprocessing.MaxAbsScaler()\n",
    "Xtrain_maxabs = max_abs_scaler.fit_transform(X_train)\n",
    "strat_k_fold = StratifiedKFold(n_splits=5)\n",
    "strat_k_fold.get_n_splits(Xtrain_maxabs , Y_train)\n",
    "StratifiedKFold(n_splits=5, random_state=None, shuffle=False)\n",
    "acc=[]\n",
    "auc_roc_score=[]\n",
    "auc_prec_score=[]\n",
    "for train_index, test_index in strat_k_fold.split(Xtrain_maxabs  , Y_train):\n",
    "    Xtr, Xte = Xtrain_maxabs[train_index], Xtrain_maxabs[test_index]\n",
    "    Ytr, Yte = Y_train[train_index], Y_train[test_index]\n",
    "    KNN= KNeighborsClassifier(n_neighbors=1)\n",
    "    KNN.fit(Xtr,Ytr)\n",
    "    Yte_pred= KNN.predict(Xte)\n",
    "    Yte_pred_proba=KNN.predict_proba(Xte)\n",
    "    Acc=accuracy_score(Yte,Yte_pred)\n",
    "    acc.append(Acc)\n",
    "    auc_roc_score.append(_aucRoc(Yte,Yte_pred_proba[:,1]))\n",
    "    auc_prec_score.append(_aucPrec(Yte,Yte_pred_proba[:,1]))\n",
    "#Mean of accuracy\n",
    "print(\"Mean of Accuracy across all folds after applying MaxAbsScaler: \"+str(statistics.mean(acc)))\n",
    "#Mean of AUCROC\n",
    "print(\"Mean of AUCROC score across all folds after applying MaxAbsScaler: \"+str(statistics.mean(auc_roc_score)))\n",
    "#Mean of AUCPR\n",
    "print(\"Mean of AUCPR score across all folds after applying MaxAbsScaler: \"+str(statistics.mean(auc_prec_score)))"
   ]
  },
  {
   "cell_type": "code",
   "execution_count": 22,
   "id": "4101efee",
   "metadata": {},
   "outputs": [
    {
     "name": "stdout",
     "output_type": "stream",
     "text": [
      "Mean of Accuracy across all folds after applying RobustScaler: 0.7166666666666667\n",
      "Mean of AUCROC score across all folds after applying RobustScaler: 0.6822561340668901\n",
      "Mean of AUCPR score across all folds after applying RobustScaler: 0.8760893167989948\n"
     ]
    }
   ],
   "source": [
    "#Performing RobustScaler\n",
    "#This scaling tool is robust against outliers\n",
    "robust_scaler = preprocessing.RobustScaler()\n",
    "Xtrain_robust = robust_scaler.fit_transform(X_train)\n",
    "strat_k_fold = StratifiedKFold(n_splits=5)\n",
    "strat_k_fold.get_n_splits(Xtrain_robust , Y_train)\n",
    "StratifiedKFold(n_splits=5, random_state=None, shuffle=False)\n",
    "acc=[]\n",
    "auc_roc_score=[]\n",
    "auc_prec_score=[]\n",
    "for train_index, test_index in strat_k_fold.split(Xtrain_robust, Y_train):\n",
    "    Xtr, Xte = Xtrain_robust[train_index], Xtrain_robust[test_index]\n",
    "    Ytr, Yte = Y_train[train_index], Y_train[test_index]\n",
    "    KNN= KNeighborsClassifier(n_neighbors=1)\n",
    "    KNN.fit(Xtr,Ytr)\n",
    "    Yte_pred= KNN.predict(Xte)\n",
    "    Yte_pred_proba=KNN.predict_proba(Xte)\n",
    "    Acc=accuracy_score(Yte,Yte_pred)\n",
    "    acc.append(Acc)\n",
    "    auc_roc_score.append(_aucRoc(Yte,Yte_pred_proba[:,1]))\n",
    "    auc_prec_score.append(_aucPrec(Yte,Yte_pred_proba[:,1]))\n",
    "#Mean of accuracy\n",
    "print(\"Mean of Accuracy across all folds after applying RobustScaler: \"+str(statistics.mean(acc)))\n",
    "#Mean of AUCROC\n",
    "print(\"Mean of AUCROC score across all folds after applying RobustScaler: \"+str(statistics.mean(auc_roc_score)))\n",
    "#Mean of AUCPR\n",
    "print(\"Mean of AUCPR score across all folds after applying RobustScaler: \"+str(statistics.mean(auc_prec_score)))"
   ]
  },
  {
   "cell_type": "code",
   "execution_count": 23,
   "id": "ca970e32",
   "metadata": {},
   "outputs": [
    {
     "name": "stdout",
     "output_type": "stream",
     "text": [
      "Mean of Accuracy across all folds after applying l1- Normalization: 0.748\n",
      "Mean of AUC-ROC across all folds after applying l1- Normalization: 0.68289041155934\n",
      "Mean of AUC-PR across all folds after applying l1-  Normalization: 0.8813913387430912\n",
      "Mean of Accuracy across all folds after applying l2- Normalization: 0.762\n",
      "Mean of AUC-ROC across all folds after applying l2- Normalization: 0.70538563851265\n",
      "Mean of AUC-PR across all folds after applying l2-  Normalization: 0.8889411153190175\n",
      "Mean of Accuracy across all folds after applying max- Normalization: 0.7503333333333334\n",
      "Mean of AUC-ROC across all folds after applying max- Normalization: 0.7202768770862212\n",
      "Mean of AUC-PR across all folds after applying max-  Normalization: 0.8915299584776888\n"
     ]
    }
   ],
   "source": [
    "#Normalization\n",
    "#Normalization involves scaling individual samples to have unit norm.\n",
    "#\n",
    "norm_list=[\"l1\",\"l2\",\"max\"]\n",
    "for i in range(len(norm_list)):\n",
    "    Xtrain_normalized = preprocessing.normalize(X_train, norm=norm_list[i])\n",
    "    strat_k_fold = StratifiedKFold(n_splits=5)\n",
    "    strat_k_fold.get_n_splits(Xtrain_normalized, Y_train)\n",
    "    StratifiedKFold(n_splits=5, random_state=None, shuffle=False)\n",
    "    acc=[]\n",
    "    auc_roc_score=[]\n",
    "    auc_prec_score=[]\n",
    "    for train_index, test_index in strat_k_fold.split(Xtrain_normalized, Y_train):\n",
    "        Xtr, Xte = Xtrain_normalized[train_index], Xtrain_normalized[test_index]\n",
    "        Ytr, Yte = Y_train[train_index], Y_train[test_index]\n",
    "        KNN= KNeighborsClassifier(n_neighbors=1)\n",
    "        KNN.fit(Xtr,Ytr)\n",
    "        Yte_pred= KNN.predict(Xte)\n",
    "        Yte_pred_proba=KNN.predict_proba(Xte)\n",
    "        Acc=accuracy_score(Yte,Yte_pred)\n",
    "        acc.append(Acc)\n",
    "        auc_roc_score.append(_aucRoc(Yte,Yte_pred_proba[:,1]))\n",
    "        auc_prec_score.append(_aucPrec(Yte,Yte_pred_proba[:,1]))\n",
    "    #Mean of accuracy\n",
    "    print(\"Mean of Accuracy across all folds after applying \"+str(norm_list[i])+\"- Normalization: \"+str(statistics.mean(acc)))\n",
    "    #Mean of AUCROC\n",
    "    print(\"Mean of AUC-ROC across all folds after applying \"+str(norm_list[i])+\"- Normalization: \"+str(statistics.mean(auc_roc_score)))\n",
    "    #Mean of AUCPR\n",
    "    print(\"Mean of AUC-PR across all folds after applying \"+str(norm_list[i])+\"-  Normalization: \"+str(statistics.mean(auc_prec_score)))"
   ]
  },
  {
   "cell_type": "markdown",
   "id": "2f1c53c9",
   "metadata": {},
   "source": [
    "### Different preprocessing methods and their effect on the accuracy, AUC-ROC score and AUC-PR score:\n",
    "| Preprocessing Method ↓ | Accuracy | AUC-ROC score | AUC-PR score |\n",
    "| --- | --- | --- | --- |        \n",
    "|StandardScaler| 0.745 | 0.711 | 0.888 |\n",
    "|MinMaxScaler| 0.747 | 0.717 | 0.890 |\n",
    "|MaxAbsScaler| 0.747 | 0.717 | 0.890 |\n",
    "|RobustScaler| 0.717 | 0.682 | 0.876 |\n",
    "|L1- normalisation| 0.748 | 0.683| 0.881 |\n",
    "|L2- normalisation| 0.762 | 0.705 | 0.889 |\n",
    "|max- normalisation| 0.750| 0.720 |  0.891 |"
   ]
  },
  {
   "cell_type": "markdown",
   "id": "d72985d2",
   "metadata": {},
   "source": [
    "## iv. Use 5-fold cross-validation over training data to calculate the optimal value of k for the k-Nearest neighbour classifier. What is the optimal value of k and what are the crossvalidation accuracy, AUC-ROC and AUC-PR? Show code to demonstrate the results."
   ]
  },
  {
   "cell_type": "code",
   "execution_count": 24,
   "id": "d04ab813",
   "metadata": {},
   "outputs": [
    {
     "name": "stdout",
     "output_type": "stream",
     "text": [
      "---------------------------------------------------------------------------------------------\n",
      "Mean of Accuracy across all folds for k= 1 :0.7466666666666667\n",
      "Mean of AUCROC score across all folds for k= 1 :0.7190149432667412\n",
      "Mean of AUCPR score across all folds for k= 1 :0.8907141827576028\n",
      "---------------------------------------------------------------------------------------------\n",
      "Mean of Accuracy across all folds for k= 2 :0.6783333333333333\n",
      "Mean of AUCROC score across all folds for k= 2 :0.7543156861663124\n",
      "Mean of AUCPR score across all folds for k= 2 :0.8930946285363738\n",
      "---------------------------------------------------------------------------------------------\n",
      "Mean of Accuracy across all folds for k= 3 :0.7593333333333333\n",
      "Mean of AUCROC score across all folds for k= 3 :0.7741129783965985\n",
      "Mean of AUCPR score across all folds for k= 3 :0.8971406404492199\n",
      "---------------------------------------------------------------------------------------------\n",
      "Mean of Accuracy across all folds for k= 4 :0.721\n",
      "Mean of AUCROC score across all folds for k= 4 :0.7765835862433242\n",
      "Mean of AUCPR score across all folds for k= 4 :0.8940895134849114\n",
      "---------------------------------------------------------------------------------------------\n",
      "Mean of Accuracy across all folds for k= 5 :0.7553333333333333\n",
      "Mean of AUCROC score across all folds for k= 5 :0.777786078737103\n",
      "Mean of AUCPR score across all folds for k= 5 :0.8928959675643774\n",
      "---------------------------------------------------------------------------------------------\n",
      "Mean of Accuracy across all folds for k= 6 :0.7276666666666667\n",
      "Mean of AUCROC score across all folds for k= 6 :0.7764646028612037\n",
      "Mean of AUCPR score across all folds for k= 6 :0.8909848107989311\n",
      "---------------------------------------------------------------------------------------------\n",
      "Mean of Accuracy across all folds for k= 7 :0.7593333333333333\n",
      "Mean of AUCROC score across all folds for k= 7 :0.7798239223071745\n",
      "Mean of AUCPR score across all folds for k= 7 :0.8922765264574616\n",
      "---------------------------------------------------------------------------------------------\n",
      "Mean of Accuracy across all folds for k= 8 :0.7363333333333333\n",
      "Mean of AUCROC score across all folds for k= 8 :0.7789314043647069\n",
      "Mean of AUCPR score across all folds for k= 8 :0.8909181849966996\n",
      "---------------------------------------------------------------------------------------------\n",
      "Mean of Accuracy across all folds for k= 9 :0.758\n",
      "Mean of AUCROC score across all folds for k= 9 :0.7779668436801063\n",
      "Mean of AUCPR score across all folds for k= 9 :0.8907324675816123\n",
      "---------------------------------------------------------------------------------------------\n",
      "Mean of Accuracy across all folds for k= 10 :0.7403333333333333\n",
      "Mean of AUCROC score across all folds for k= 10 :0.7770064097869834\n",
      "Mean of AUCPR score across all folds for k= 10 :0.8910472232037028\n"
     ]
    }
   ],
   "source": [
    "#Applying 5-fold cross-validation over training data for different values of k(1-10)\n",
    "k_optimal=[1,2,3,4,5,6,7,8,9,10]\n",
    "for i in k_optimal:\n",
    "    strat_k_fold = StratifiedKFold(n_splits=5)\n",
    "    strat_k_fold.get_n_splits(X_train, Y_train)\n",
    "    StratifiedKFold(n_splits=5, random_state=None, shuffle=False)\n",
    "    acc=[]\n",
    "    auc_roc_score=[]\n",
    "    auc_prec_score=[]\n",
    "    for train_index, test_index in strat_k_fold.split(X_train, Y_train):\n",
    "        Xtr, Xte = X_train[train_index], X_train[test_index]\n",
    "        Ytr, Yte = Y_train[train_index], Y_train[test_index]\n",
    "        KNN= KNeighborsClassifier(n_neighbors=i)\n",
    "        KNN.fit(Xtr,Ytr)\n",
    "        Yte_pred= KNN.predict(Xte)\n",
    "        Yte_pred_proba=KNN.predict_proba(Xte)\n",
    "        Acc=accuracy_score(Yte,Yte_pred)\n",
    "        acc.append(Acc)\n",
    "        auc_roc_score.append(_aucRoc(Yte,Yte_pred_proba[:,1]))\n",
    "        auc_prec_score.append(_aucPrec(Yte,Yte_pred_proba[:,1]))\n",
    "    print(\"---------------------------------------------------------------------------------------------\")\n",
    "    print(\"Mean of Accuracy across all folds for k= \"+str(i)+\" :\"+str(statistics.mean(acc)))\n",
    "    print(\"Mean of AUCROC score across all folds for k= \"+str(i)+\" :\"+str(statistics.mean(auc_roc_score)))\n",
    "    print(\"Mean of AUCPR score across all folds for k= \"+str(i)+\" :\"+str(statistics.mean(auc_prec_score)))"
   ]
  },
  {
   "cell_type": "markdown",
   "id": "7062a949",
   "metadata": {},
   "source": [
    "### Accuracy, AUC-ROC and AUC-PR for different values of k:\n",
    "| k ↓ | Accuracy | AUC-ROC score | AUC-PR score |\n",
    "| --- | --- | --- | --- |        \n",
    "|k=1| 0.747 | 0.719 | 0.891 |\n",
    "|k=2| 0.678 | 0.754 | 0.893 |\n",
    "|k=3| 0.759 | 0.774 | 0.897 |\n",
    "|k=4| 0.721 | 0.776 | 0.894 |\n",
    "|k=5| 0.755 | 0.778 | 0.893 |\n",
    "|k=6| 0.728 | 0.776 | 0.891 |\n",
    "|k=7| 0.759 | 0.780 | 0.892 |\n",
    "|k=8| 0.736 | 0.779 | 0.891 |\n",
    "|k=9| 0.758 | 0.778 | 0.891 |\n",
    "|k=10| 0.740| 0.777 | 0.891 |"
   ]
  },
  {
   "cell_type": "markdown",
   "id": "7381fc48",
   "metadata": {},
   "source": [
    "### Answer:\n",
    "### Optimal value of k is 3 because its producing optimal score for both ROC and Precision."
   ]
  },
  {
   "cell_type": "markdown",
   "id": "a726c176",
   "metadata": {},
   "source": [
    "# Question No. 3: CV"
   ]
  },
  {
   "cell_type": "markdown",
   "id": "9f690b0d",
   "metadata": {},
   "source": [
    "## Use 5-fold stratified cross-validation over training data to choose an optimal classifier between: k-nearest neighbour, Perceptron, Naïve Bayes Classifier, Logistic regression, Linear SVM and Kernelized SVM."
   ]
  },
  {
   "cell_type": "markdown",
   "id": "de05865e",
   "metadata": {},
   "source": [
    "### Importing data"
   ]
  },
  {
   "cell_type": "code",
   "execution_count": 25,
   "id": "3fb0254a",
   "metadata": {},
   "outputs": [
    {
     "name": "stdout",
     "output_type": "stream",
     "text": [
      "Training dataset:  (3000, 784)\n",
      "Training labels:  (3000,)\n",
      "Testing dataset:  (3000, 784)\n"
     ]
    }
   ],
   "source": [
    "#Importing the dataset\n",
    "X_train=np.loadtxt(\"Xtrain.txt\")#Loading the training sample data. \n",
    "X_test=np.loadtxt(\"Xtest.txt\")#Loading the testing sample data\n",
    "Y_train=np.loadtxt(\"Ytrain.txt\")#Loading the training sample dataset labels\n",
    "print(\"Training dataset: \", X_train.shape)#Number of samples= 3000, Number of vector dimensions/features=784\n",
    "print(\"Training labels: \",Y_train.shape)#Total numnber of classes= 2(+1,-1) and there are total 3000 labels for each row of the sample training dataset\n",
    "print(\"Testing dataset: \", X_test.shape)#Number of samples= 3000, Number of vector dimensions/features=784"
   ]
  },
  {
   "cell_type": "code",
   "execution_count": 26,
   "id": "42ab754d",
   "metadata": {},
   "outputs": [],
   "source": [
    "def _aucRoc(x,y):\n",
    "    auc_roc=roc_auc_score(x,y)\n",
    "    return auc_roc"
   ]
  },
  {
   "cell_type": "code",
   "execution_count": 27,
   "id": "e8e2e692",
   "metadata": {},
   "outputs": [],
   "source": [
    "def _aucPrec(x,y):\n",
    "    precision,recall,threshold = precision_recall_curve(x,y)\n",
    "    auc_prec =auc(recall, precision)\n",
    "    return auc_prec"
   ]
  },
  {
   "cell_type": "markdown",
   "id": "dc5f051e",
   "metadata": {},
   "source": [
    "## Performing pre-processing\n",
    "### Applying MinMaxScaler of training data set:\n",
    "#### After applying different pre-processing methods on the training dataset, I got the best results for various classifier using MinMax scaler."
   ]
  },
  {
   "cell_type": "code",
   "execution_count": 28,
   "id": "0052d9f0",
   "metadata": {},
   "outputs": [],
   "source": [
    "min_max_scaler = preprocessing.MinMaxScaler()\n",
    "Xtrain_minmax = min_max_scaler.fit_transform(X_train)"
   ]
  },
  {
   "cell_type": "markdown",
   "id": "1f2e1264",
   "metadata": {},
   "source": [
    "## 1. 5-Fold Stratified cross validation KNN:"
   ]
  },
  {
   "cell_type": "code",
   "execution_count": 29,
   "id": "1fbaeda6",
   "metadata": {},
   "outputs": [
    {
     "name": "stdout",
     "output_type": "stream",
     "text": [
      "---------------------------------------------------------------------------------------------\n",
      "Mean of Accuracy across all folds for k= 1 :0.7466666666666667\n",
      "Mean of AUC-ROC score across all folds for k= 1 :0.7190149432667412\n",
      "Mean of AUC-PR score across all folds for k= 1 :0.8907141827576028\n",
      "---------------------------------------------------------------------------------------------\n",
      "Mean of Accuracy across all folds for k= 2 :0.6783333333333333\n",
      "Mean of AUC-ROC score across all folds for k= 2 :0.7543156861663124\n",
      "Mean of AUC-PR score across all folds for k= 2 :0.8930946285363738\n",
      "---------------------------------------------------------------------------------------------\n",
      "Mean of Accuracy across all folds for k= 3 :0.7593333333333333\n",
      "Mean of AUC-ROC score across all folds for k= 3 :0.7741129783965985\n",
      "Mean of AUC-PR score across all folds for k= 3 :0.8971406404492199\n",
      "---------------------------------------------------------------------------------------------\n",
      "Mean of Accuracy across all folds for k= 4 :0.721\n",
      "Mean of AUC-ROC score across all folds for k= 4 :0.7765835862433242\n",
      "Mean of AUC-PR score across all folds for k= 4 :0.8940895134849114\n",
      "---------------------------------------------------------------------------------------------\n",
      "Mean of Accuracy across all folds for k= 5 :0.7553333333333333\n",
      "Mean of AUC-ROC score across all folds for k= 5 :0.777786078737103\n",
      "Mean of AUC-PR score across all folds for k= 5 :0.8928959675643774\n",
      "---------------------------------------------------------------------------------------------\n",
      "Mean of Accuracy across all folds for k= 6 :0.7276666666666667\n",
      "Mean of AUC-ROC score across all folds for k= 6 :0.7764646028612037\n",
      "Mean of AUC-PR score across all folds for k= 6 :0.8909848107989311\n",
      "---------------------------------------------------------------------------------------------\n",
      "Mean of Accuracy across all folds for k= 7 :0.7593333333333333\n",
      "Mean of AUC-ROC score across all folds for k= 7 :0.7798239223071745\n",
      "Mean of AUC-PR score across all folds for k= 7 :0.8922765264574616\n",
      "---------------------------------------------------------------------------------------------\n",
      "Mean of Accuracy across all folds for k= 8 :0.7363333333333333\n",
      "Mean of AUC-ROC score across all folds for k= 8 :0.7789314043647069\n",
      "Mean of AUC-PR score across all folds for k= 8 :0.8909181849966996\n",
      "---------------------------------------------------------------------------------------------\n",
      "Mean of Accuracy across all folds for k= 9 :0.758\n",
      "Mean of AUC-ROC score across all folds for k= 9 :0.7779668436801063\n",
      "Mean of AUC-PR score across all folds for k= 9 :0.8907324675816123\n",
      "---------------------------------------------------------------------------------------------\n",
      "Mean of Accuracy across all folds for k= 10 :0.7403333333333333\n",
      "Mean of AUC-ROC score across all folds for k= 10 :0.7770064097869834\n",
      "Mean of AUC-PR score across all folds for k= 10 :0.8910472232037028\n"
     ]
    }
   ],
   "source": [
    "#Applying 5-fold cross-validation over training data for different values of k(1-10)\n",
    "k_optimal=[1,2,3,4,5,6,7,8,9,10]\n",
    "for i in k_optimal:\n",
    "    strat_k_fold = StratifiedKFold(n_splits=5)\n",
    "    strat_k_fold.get_n_splits(Xtrain_minmax, Y_train)\n",
    "    StratifiedKFold(n_splits=5, random_state=None, shuffle=False)\n",
    "    acc=[]\n",
    "    auc_roc_score=[]\n",
    "    auc_prec_score=[]\n",
    "    for train_index, test_index in strat_k_fold.split(X_train, Y_train):\n",
    "        Xtr, Xte = X_train[train_index], X_train[test_index]\n",
    "        Ytr, Yte = Y_train[train_index], Y_train[test_index]\n",
    "        KNN= KNeighborsClassifier(n_neighbors=i)\n",
    "        KNN.fit(Xtr,Ytr)\n",
    "        Yte_pred= KNN.predict(Xte)\n",
    "        Yte_pred_proba=KNN.predict_proba(Xte)\n",
    "        Acc=accuracy_score(Yte,Yte_pred)\n",
    "        acc.append(Acc)\n",
    "        auc_roc_score.append(_aucRoc(Yte,Yte_pred_proba[:,1]))\n",
    "        auc_prec_score.append(_aucPrec(Yte,Yte_pred_proba[:,1]))\n",
    "    print(\"---------------------------------------------------------------------------------------------\")\n",
    "    print(\"Mean of Accuracy across all folds for k= \"+str(i)+\" :\"+str(statistics.mean(acc)))\n",
    "    print(\"Mean of AUC-ROC score across all folds for k= \"+str(i)+\" :\"+str(statistics.mean(auc_roc_score)))\n",
    "    print(\"Mean of AUC-PR score across all folds for k= \"+str(i)+\" :\"+str(statistics.mean(auc_prec_score)))"
   ]
  },
  {
   "cell_type": "markdown",
   "id": "d6ac8df3",
   "metadata": {},
   "source": [
    "### Optimal value of k is 3 because its producing optimal score for both ROC and Precision."
   ]
  },
  {
   "cell_type": "code",
   "execution_count": 30,
   "id": "55384d0f",
   "metadata": {},
   "outputs": [
    {
     "name": "stdout",
     "output_type": "stream",
     "text": [
      "Mean of Accuracy across all folds: 0.758\n",
      "Standard Deviation of Accuracy across all folds: 0.006603870918719658\n",
      "Mean of AUCROC score across all folds: 0.7719264703006438\n",
      "Standard Deviation of AUC-ROC score across all folds: 0.012822124237037356\n",
      "Mean of AUCPR score across all folds: 0.8957769129116382\n",
      "Standard Deviation of AUC-PR score across all folds: 0.00885293613789275\n"
     ]
    }
   ],
   "source": [
    "strat_k_fold = StratifiedKFold(n_splits=5)\n",
    "strat_k_fold.get_n_splits(Xtrain_minmax, Y_train)\n",
    "StratifiedKFold(n_splits=5, random_state=None, shuffle=False)\n",
    "acc=[]\n",
    "auc_roc_score=[]\n",
    "auc_prec_score=[]\n",
    "for train_index, test_index in strat_k_fold.split(Xtrain_minmax, Y_train):\n",
    "    Xtr, Xte = Xtrain_minmax[train_index], Xtrain_minmax[test_index]\n",
    "    Ytr, Yte = Y_train[train_index], Y_train[test_index]\n",
    "    KNN= KNeighborsClassifier(n_neighbors=3)#from the previous question we were able to derive that the optimal value of k is 3.\n",
    "    KNN.fit(Xtr,Ytr)\n",
    "    Yte_pred= KNN.predict(Xte)\n",
    "    Yte_pred_proba=KNN.predict_proba(Xte)\n",
    "    Acc=accuracy_score(Yte,Yte_pred)\n",
    "    acc.append(Acc)\n",
    "    auc_roc_score.append(_aucRoc(Yte,Yte_pred_proba[:,1]))\n",
    "    auc_prec_score.append(_aucPrec(Yte,Yte_pred_proba[:,1]))\n",
    "#Mean of accuracy\n",
    "print(\"Mean of Accuracy across all folds: \"+str(statistics.mean(acc)))\n",
    "#Standard Deviation of accuracy\n",
    "print(\"Standard Deviation of Accuracy across all folds: \"+str(statistics.stdev(acc)))\n",
    "#Mean of AUCROC\n",
    "print(\"Mean of AUCROC score across all folds: \"+str(statistics.mean(auc_roc_score)))\n",
    "#Standard Deviation of AUCROC\n",
    "print(\"Standard Deviation of AUC-ROC score across all folds: \"+str(statistics.stdev(auc_roc_score)))\n",
    "#Mean of AUCPR\n",
    "print(\"Mean of AUCPR score across all folds: \"+str(statistics.mean(auc_prec_score)))\n",
    "#Standard Deviation of AUCPR\n",
    "print(\"Standard Deviation of AUC-PR score across all folds: \"+str(statistics.stdev(auc_prec_score)))"
   ]
  },
  {
   "cell_type": "markdown",
   "id": "d0c6b19b",
   "metadata": {},
   "source": [
    "## 2. 5-Fold Stratified cross validation Perceptron:\n"
   ]
  },
  {
   "cell_type": "code",
   "execution_count": 31,
   "id": "3bdd4adb",
   "metadata": {},
   "outputs": [
    {
     "name": "stdout",
     "output_type": "stream",
     "text": [
      "Best mean roc_auc score: 0.542\n",
      "Config: {'eta0': 1.0}\n",
      "->0.542 with: {'eta0': 0.0001}\n",
      "->0.542 with: {'eta0': 0.001}\n",
      "->0.542 with: {'eta0': 0.01}\n",
      "->0.542 with: {'eta0': 0.1}\n",
      "->0.542 with: {'eta0': 1.0}\n"
     ]
    }
   ],
   "source": [
    "grid = dict()\n",
    "grid['eta0'] = [0.0001, 0.001, 0.01, 0.1, 1.0]#Defining the grid. eta0 is the constant by which the updates are multiplied.\n",
    "cv =StratifiedKFold(n_splits=5, random_state=None, shuffle=False)\n",
    "# define search\n",
    "Percep = Perceptron()#Defining the perceptron classifier.\n",
    "search = GridSearchCV(Percep, grid, scoring='roc_auc')#Performing grid search for eta0 value that gives the best roc_score.\n",
    "# perform the search\n",
    "results=search.fit(X_train, Y_train)\n",
    "# summarize\n",
    "print('Best mean roc_auc score: %.3f' % results.best_score_)\n",
    "print('Config: %s' % results.best_params_)\n",
    "# summarize all\n",
    "means = results.cv_results_['mean_test_score']\n",
    "params = results.cv_results_['params']\n",
    "for mean, param in zip(means, params):\n",
    "    print(\"->%.3f with: %r\" % (mean, param))"
   ]
  },
  {
   "cell_type": "code",
   "execution_count": 32,
   "id": "456452a2",
   "metadata": {},
   "outputs": [
    {
     "name": "stdout",
     "output_type": "stream",
     "text": [
      "Best mean roc_auc score: 0.549\n",
      "Config: {'max_iter': 10}\n",
      "->0.545 with: {'max_iter': 1}\n",
      "->0.549 with: {'max_iter': 10}\n",
      "->0.542 with: {'max_iter': 100}\n",
      "->0.542 with: {'max_iter': 1000}\n",
      "->0.542 with: {'max_iter': 10000}\n"
     ]
    }
   ],
   "source": [
    "model = Perceptron(eta0=1)#Setting the best eta0 value.\n",
    "# define model evaluation method\n",
    "cv =StratifiedKFold(n_splits=5, random_state=None, shuffle=False)\n",
    "# define grid\n",
    "grid = dict()\n",
    "grid['max_iter'] = [1, 10, 100, 1000, 10000]#max_iter defines the maximum number of passes over the training data (aka epochs).\n",
    "# define search\n",
    "search = GridSearchCV(model, grid, scoring='roc_auc', cv=cv)\n",
    "# perform the search\n",
    "results = search.fit(X_train, Y_train)\n",
    "# summarize\n",
    "print('Best mean roc_auc score: %.3f' % results.best_score_)\n",
    "print('Config: %s' % results.best_params_)\n",
    "# summarize all\n",
    "means = results.cv_results_['mean_test_score']\n",
    "params = results.cv_results_['params']\n",
    "for mean, param in zip(means, params):\n",
    "    print(\"->%.3f with: %r\" % (mean, param))"
   ]
  },
  {
   "cell_type": "code",
   "execution_count": 33,
   "id": "7abbfb4e",
   "metadata": {},
   "outputs": [
    {
     "name": "stdout",
     "output_type": "stream",
     "text": [
      "Mean of Accuracy across all folds: 0.6003333333333334\n",
      "Standard Deviation of Accuracy across all folds: 0.11385541513496647\n",
      "Mean of AUCROC score across all folds: 0.5486204160664634\n",
      "Standard Deviation of AUC-ROC score across all folds: 0.02193871571708779\n",
      "Mean of AUCPR score across all folds: 0.7408532250641284\n",
      "Standard Deviation of AUC-PR score across all folds: 0.015033979584548676\n"
     ]
    }
   ],
   "source": [
    "strat_k_fold = StratifiedKFold(n_splits=5)\n",
    "strat_k_fold.get_n_splits(X_train, Y_train)\n",
    "acc=[]\n",
    "auc_roc_score=[]\n",
    "auc_prec_score=[]\n",
    "StratifiedKFold(n_splits=5, random_state=None, shuffle=False)\n",
    "for train_index, test_index in strat_k_fold.split(X_train, Y_train):\n",
    "    Xtr, Xte = X_train[train_index], X_train[test_index]\n",
    "    Ytr, Yte = Y_train[train_index], Y_train[test_index]\n",
    "    Percep = Perceptron(eta0=1,max_iter=10)#Giving the best hyperparameters received after hyperparameter tuning.\n",
    "    Percep.fit(Xtr,Ytr)\n",
    "    Yte_pred=Percep.predict(Xte)\n",
    "    Yte_pred_proba=Percep.decision_function(Xte)\n",
    "    Acc=accuracy_score(Yte,Yte_pred)\n",
    "    acc.append(Acc)\n",
    "    auc_roc_score.append(_aucRoc(Yte,Yte_pred_proba))\n",
    "    auc_prec_score.append(_aucPrec(Yte,Yte_pred_proba))\n",
    "#Mean of accuracy\n",
    "print(\"Mean of Accuracy across all folds: \"+str(statistics.mean(acc)))\n",
    "#Standard Deviation of accuracy\n",
    "print(\"Standard Deviation of Accuracy across all folds: \"+str(statistics.stdev(acc)))\n",
    "#Mean of AUCROC\n",
    "print(\"Mean of AUCROC score across all folds: \"+str(statistics.mean(auc_roc_score)))\n",
    "#Standard Deviation of AUCROC\n",
    "print(\"Standard Deviation of AUC-ROC score across all folds: \"+str(statistics.stdev(auc_roc_score)))\n",
    "#Mean of AUCPR\n",
    "print(\"Mean of AUCPR score across all folds: \"+str(statistics.mean(auc_prec_score)))\n",
    "#Standard Deviation of AUCPR\n",
    "print(\"Standard Deviation of AUC-PR score across all folds: \"+str(statistics.stdev(auc_prec_score)))"
   ]
  },
  {
   "cell_type": "markdown",
   "id": "30f2fb36",
   "metadata": {},
   "source": [
    "## 3.  5-Fold Stratified cross validation Naive Bayes Classifier:"
   ]
  },
  {
   "cell_type": "code",
   "execution_count": 34,
   "id": "44292d73",
   "metadata": {},
   "outputs": [
    {
     "name": "stdout",
     "output_type": "stream",
     "text": [
      "Mean of Accuracy across all folds: 0.5523333333333333\n",
      "Standard Deviation of Accuracy across all folds: 0.04130846025802569\n",
      "Mean of AUCROC score across all folds: 0.5687061722040985\n",
      "Standard Deviation of AUC-ROC score across all folds: 0.044117108745640336\n",
      "Mean of AUCPR score across all folds: 0.7673937396579082\n",
      "Standard Deviation of AUC-PR score across all folds: 0.036707052215173196\n"
     ]
    }
   ],
   "source": [
    "#Gaussian naive bayes has no hyperparameters to tune.\n",
    "strat_k_fold = StratifiedKFold(n_splits=5)\n",
    "strat_k_fold.get_n_splits(Xtrain_minmax, Y_train)\n",
    "StratifiedKFold(n_splits=5, random_state=None, shuffle=False)\n",
    "acc=[]\n",
    "auc_roc_score=[]\n",
    "auc_prec_score=[]\n",
    "for train_index, test_index in strat_k_fold.split(Xtrain_minmax, Y_train):\n",
    "    Xtr, Xte = Xtrain_minmax[train_index], Xtrain_minmax[test_index]\n",
    "    Ytr, Yte = Y_train[train_index], Y_train[test_index]\n",
    "    Naive_bayes= GaussianNB()#Defining the model\n",
    "    Naive_bayes.fit(Xtr,Ytr)#Fitting training dataset\n",
    "    Yte_pred=Naive_bayes.predict(Xte)#Predicting labels of the test dataset\n",
    "    Yte_pred_proba=Naive_bayes.predict_proba(Xte)\n",
    "    Acc=accuracy_score(Yte,Yte_pred)\n",
    "    acc.append(Acc)\n",
    "    auc_roc_score.append(_aucRoc(Yte,Yte_pred_proba[:,1]))\n",
    "    auc_prec_score.append(_aucPrec(Yte,Yte_pred_proba[:,1]))\n",
    "#Mean of accuracy\n",
    "print(\"Mean of Accuracy across all folds: \"+str(statistics.mean(acc)))\n",
    "#Standard Deviation of accuracy\n",
    "print(\"Standard Deviation of Accuracy across all folds: \"+str(statistics.stdev(acc)))\n",
    "#Mean of AUCROC\n",
    "print(\"Mean of AUCROC score across all folds: \"+str(statistics.mean(auc_roc_score)))\n",
    "#Standard Deviation of AUCROC\n",
    "print(\"Standard Deviation of AUC-ROC score across all folds: \"+str(statistics.stdev(auc_roc_score)))\n",
    "#Mean of AUCPR\n",
    "print(\"Mean of AUCPR score across all folds: \"+str(statistics.mean(auc_prec_score)))\n",
    "#Standard Deviation of AUCPR\n",
    "print(\"Standard Deviation of AUC-PR score across all folds: \"+str(statistics.stdev(auc_prec_score)))"
   ]
  },
  {
   "cell_type": "markdown",
   "id": "1d8df3a4",
   "metadata": {},
   "source": [
    "## 4.  5-Fold Stratified cross validation Logistic Regression:"
   ]
  },
  {
   "cell_type": "code",
   "execution_count": 35,
   "id": "dcba26e4",
   "metadata": {},
   "outputs": [
    {
     "name": "stdout",
     "output_type": "stream",
     "text": [
      "Best mean roc_auc score: 0.596579 using {'C': 0.01, 'penalty': 'l2', 'solver': 'lbfgs'}\n",
      "0.000000 (0.000000) with: {'C': 100, 'penalty': 'l1', 'solver': 'newton-cg'}\n",
      "0.000000 (0.000000) with: {'C': 100, 'penalty': 'l1', 'solver': 'lbfgs'}\n",
      "0.547039 (0.016835) with: {'C': 100, 'penalty': 'l1', 'solver': 'liblinear'}\n",
      "0.546985 (0.016804) with: {'C': 100, 'penalty': 'l2', 'solver': 'newton-cg'}\n",
      "0.545952 (0.017369) with: {'C': 100, 'penalty': 'l2', 'solver': 'lbfgs'}\n",
      "0.547050 (0.016786) with: {'C': 100, 'penalty': 'l2', 'solver': 'liblinear'}\n",
      "0.000000 (0.000000) with: {'C': 10, 'penalty': 'l1', 'solver': 'newton-cg'}\n",
      "0.000000 (0.000000) with: {'C': 10, 'penalty': 'l1', 'solver': 'lbfgs'}\n",
      "0.548231 (0.017565) with: {'C': 10, 'penalty': 'l1', 'solver': 'liblinear'}\n",
      "0.547738 (0.017308) with: {'C': 10, 'penalty': 'l2', 'solver': 'newton-cg'}\n",
      "0.546696 (0.018254) with: {'C': 10, 'penalty': 'l2', 'solver': 'lbfgs'}\n",
      "0.547743 (0.017308) with: {'C': 10, 'penalty': 'l2', 'solver': 'liblinear'}\n",
      "0.000000 (0.000000) with: {'C': 1.0, 'penalty': 'l1', 'solver': 'newton-cg'}\n",
      "0.000000 (0.000000) with: {'C': 1.0, 'penalty': 'l1', 'solver': 'lbfgs'}\n",
      "0.559902 (0.024896) with: {'C': 1.0, 'penalty': 'l1', 'solver': 'liblinear'}\n",
      "0.553541 (0.020054) with: {'C': 1.0, 'penalty': 'l2', 'solver': 'newton-cg'}\n",
      "0.553238 (0.020344) with: {'C': 1.0, 'penalty': 'l2', 'solver': 'lbfgs'}\n",
      "0.553755 (0.019987) with: {'C': 1.0, 'penalty': 'l2', 'solver': 'liblinear'}\n",
      "0.000000 (0.000000) with: {'C': 0.1, 'penalty': 'l1', 'solver': 'newton-cg'}\n",
      "0.000000 (0.000000) with: {'C': 0.1, 'penalty': 'l1', 'solver': 'lbfgs'}\n",
      "0.554295 (0.028733) with: {'C': 0.1, 'penalty': 'l1', 'solver': 'liblinear'}\n",
      "0.575413 (0.025874) with: {'C': 0.1, 'penalty': 'l2', 'solver': 'newton-cg'}\n",
      "0.575448 (0.025775) with: {'C': 0.1, 'penalty': 'l2', 'solver': 'lbfgs'}\n",
      "0.576447 (0.024185) with: {'C': 0.1, 'penalty': 'l2', 'solver': 'liblinear'}\n",
      "0.000000 (0.000000) with: {'C': 0.01, 'penalty': 'l1', 'solver': 'newton-cg'}\n",
      "0.000000 (0.000000) with: {'C': 0.01, 'penalty': 'l1', 'solver': 'lbfgs'}\n",
      "0.500000 (0.000000) with: {'C': 0.01, 'penalty': 'l1', 'solver': 'liblinear'}\n",
      "0.596579 (0.037812) with: {'C': 0.01, 'penalty': 'l2', 'solver': 'newton-cg'}\n",
      "0.596579 (0.037803) with: {'C': 0.01, 'penalty': 'l2', 'solver': 'lbfgs'}\n",
      "0.587456 (0.024924) with: {'C': 0.01, 'penalty': 'l2', 'solver': 'liblinear'}\n"
     ]
    }
   ],
   "source": [
    "Log_regression = LogisticRegression()\n",
    "Sol= [\"newton-cg\", \"lbfgs\", \"liblinear\"]#Defines the algorithm used for the optimization problem\n",
    "Pen= [\"l1\",\"l2\"]#Specifies the norm of the penalty\n",
    "C_values = [100, 10, 1.0, 0.1, 0.01]#Specifies the inverse of regularization strength\n",
    "# define grid search\n",
    "grid = dict(solver=Sol,penalty=Pen,C=C_values)\n",
    "cv = StratifiedKFold(n_splits=5, random_state=None, shuffle=False)\n",
    "search = GridSearchCV(Log_regression,grid, n_jobs=-1, cv=cv, scoring=\"roc_auc\",error_score=0)\n",
    "results =search.fit(Xtrain_minmax, Y_train)\n",
    "# summarize results\n",
    "print(\"Best mean roc_auc score: %f using %s\" % (results.best_score_,results.best_params_))\n",
    "means = results.cv_results_[\"mean_test_score\"]\n",
    "stds = results.cv_results_[\"std_test_score\"]\n",
    "params =results.cv_results_[\"params\"]\n",
    "for mean, stdev, param in zip(means, stds, params):\n",
    "    print(\"%f (%f) with: %r\" % (mean, stdev, param))"
   ]
  },
  {
   "cell_type": "code",
   "execution_count": 36,
   "id": "a1aea134",
   "metadata": {},
   "outputs": [
    {
     "name": "stdout",
     "output_type": "stream",
     "text": [
      "Mean of Accuracy across all folds: 0.701\n",
      "Standard Deviation of Accuracy across all folds: 0.004346134936801791\n",
      "Mean of AUCROC score across all folds: 0.5965845970263249\n",
      "Standard Deviation of AUC-ROC score across all folds: 0.042265432845922005\n",
      "Mean of AUCPR score across all folds: 0.76777056416729\n",
      "Standard Deviation of AUC-PR score across all folds: 0.023791775470824252\n"
     ]
    }
   ],
   "source": [
    "strat_k_fold = StratifiedKFold(n_splits=5)\n",
    "strat_k_fold.get_n_splits(Xtrain_minmax, Y_train)\n",
    "StratifiedKFold(n_splits=5, random_state=None, shuffle=False)\n",
    "acc=[]\n",
    "auc_roc_score=[]\n",
    "auc_prec_score=[]\n",
    "for train_index, test_index in strat_k_fold.split(Xtrain_minmax, Y_train):\n",
    "    Xtr, Xte = Xtrain_minmax[train_index], Xtrain_minmax[test_index]\n",
    "    Ytr, Yte = Y_train[train_index], Y_train[test_index]\n",
    "    Log_regression= LogisticRegression(solver=\"lbfgs\",C=0.01,penalty=\"l2\")#Defining the model with the best hyperparameters received after hyperparameter tuning.\n",
    "    Log_regression.fit(Xtr,Ytr)\n",
    "    Yte_pred=Log_regression.predict(Xte)\n",
    "    Yte_pred_proba=Log_regression.predict_proba(Xte)\n",
    "    Acc=accuracy_score(Yte,Yte_pred)\n",
    "    acc.append(Acc)\n",
    "    auc_roc_score.append(_aucRoc(Yte,Yte_pred_proba[:,1]))\n",
    "    auc_prec_score.append(_aucPrec(Yte,Yte_pred_proba[:,1]))\n",
    "#Mean of accuracy\n",
    "print(\"Mean of Accuracy across all folds: \"+str(statistics.mean(acc)))\n",
    "#Standard Deviation of accuracy\n",
    "print(\"Standard Deviation of Accuracy across all folds: \"+str(statistics.stdev(acc)))\n",
    "#Mean of AUCROC\n",
    "print(\"Mean of AUCROC score across all folds: \"+str(statistics.mean(auc_roc_score)))\n",
    "#Standard Deviation of AUCROC\n",
    "print(\"Standard Deviation of AUC-ROC score across all folds: \"+str(statistics.stdev(auc_roc_score)))\n",
    "#Mean of AUCPR\n",
    "print(\"Mean of AUCPR score across all folds: \"+str(statistics.mean(auc_prec_score)))\n",
    "#Standard Deviation of AUCPR\n",
    "print(\"Standard Deviation of AUC-PR score across all folds: \"+str(statistics.stdev(auc_prec_score)))"
   ]
  },
  {
   "cell_type": "markdown",
   "id": "ca15204e",
   "metadata": {},
   "source": [
    "## 5.  5-Fold Stratified cross validation Linear SVM:"
   ]
  },
  {
   "cell_type": "code",
   "execution_count": 37,
   "id": "38717a89",
   "metadata": {},
   "outputs": [
    {
     "name": "stdout",
     "output_type": "stream",
     "text": [
      "Best mean roc_auc score: 0.569386 using {'C': 0.001, 'gamma': 0.01, 'max_iter': 500}\n",
      "0.520060 (0.038495) with: {'C': 0.001, 'gamma': 0.01, 'max_iter': 100}\n",
      "0.569386 (0.028312) with: {'C': 0.001, 'gamma': 0.01, 'max_iter': 500}\n",
      "0.565755 (0.029072) with: {'C': 0.001, 'gamma': 0.01, 'max_iter': 1000}\n",
      "0.568656 (0.024190) with: {'C': 0.001, 'gamma': 0.01, 'max_iter': 2000}\n",
      "0.520060 (0.038495) with: {'C': 0.001, 'gamma': 0.1, 'max_iter': 100}\n",
      "0.569386 (0.028312) with: {'C': 0.001, 'gamma': 0.1, 'max_iter': 500}\n",
      "0.565755 (0.029072) with: {'C': 0.001, 'gamma': 0.1, 'max_iter': 1000}\n",
      "0.568656 (0.024190) with: {'C': 0.001, 'gamma': 0.1, 'max_iter': 2000}\n",
      "0.520060 (0.038495) with: {'C': 0.001, 'gamma': 1, 'max_iter': 100}\n",
      "0.569386 (0.028312) with: {'C': 0.001, 'gamma': 1, 'max_iter': 500}\n",
      "0.565755 (0.029072) with: {'C': 0.001, 'gamma': 1, 'max_iter': 1000}\n",
      "0.568656 (0.024190) with: {'C': 0.001, 'gamma': 1, 'max_iter': 2000}\n",
      "0.520060 (0.038495) with: {'C': 0.001, 'gamma': 10, 'max_iter': 100}\n",
      "0.569386 (0.028312) with: {'C': 0.001, 'gamma': 10, 'max_iter': 500}\n",
      "0.565755 (0.029072) with: {'C': 0.001, 'gamma': 10, 'max_iter': 1000}\n",
      "0.568656 (0.024190) with: {'C': 0.001, 'gamma': 10, 'max_iter': 2000}\n",
      "0.497379 (0.030222) with: {'C': 0.1, 'gamma': 0.01, 'max_iter': 100}\n",
      "0.516821 (0.025422) with: {'C': 0.1, 'gamma': 0.01, 'max_iter': 500}\n",
      "0.542112 (0.015471) with: {'C': 0.1, 'gamma': 0.01, 'max_iter': 1000}\n",
      "0.552882 (0.026256) with: {'C': 0.1, 'gamma': 0.01, 'max_iter': 2000}\n",
      "0.497379 (0.030222) with: {'C': 0.1, 'gamma': 0.1, 'max_iter': 100}\n",
      "0.516821 (0.025422) with: {'C': 0.1, 'gamma': 0.1, 'max_iter': 500}\n",
      "0.542112 (0.015471) with: {'C': 0.1, 'gamma': 0.1, 'max_iter': 1000}\n",
      "0.552882 (0.026256) with: {'C': 0.1, 'gamma': 0.1, 'max_iter': 2000}\n",
      "0.497379 (0.030222) with: {'C': 0.1, 'gamma': 1, 'max_iter': 100}\n",
      "0.516821 (0.025422) with: {'C': 0.1, 'gamma': 1, 'max_iter': 500}\n",
      "0.542112 (0.015471) with: {'C': 0.1, 'gamma': 1, 'max_iter': 1000}\n",
      "0.552882 (0.026256) with: {'C': 0.1, 'gamma': 1, 'max_iter': 2000}\n",
      "0.497379 (0.030222) with: {'C': 0.1, 'gamma': 10, 'max_iter': 100}\n",
      "0.516821 (0.025422) with: {'C': 0.1, 'gamma': 10, 'max_iter': 500}\n",
      "0.542112 (0.015471) with: {'C': 0.1, 'gamma': 10, 'max_iter': 1000}\n",
      "0.552882 (0.026256) with: {'C': 0.1, 'gamma': 10, 'max_iter': 2000}\n",
      "0.494715 (0.025386) with: {'C': 1, 'gamma': 0.01, 'max_iter': 100}\n",
      "0.527223 (0.036331) with: {'C': 1, 'gamma': 0.01, 'max_iter': 500}\n",
      "0.519640 (0.028988) with: {'C': 1, 'gamma': 0.01, 'max_iter': 1000}\n",
      "0.535643 (0.028964) with: {'C': 1, 'gamma': 0.01, 'max_iter': 2000}\n",
      "0.494715 (0.025386) with: {'C': 1, 'gamma': 0.1, 'max_iter': 100}\n",
      "0.527223 (0.036331) with: {'C': 1, 'gamma': 0.1, 'max_iter': 500}\n",
      "0.519640 (0.028988) with: {'C': 1, 'gamma': 0.1, 'max_iter': 1000}\n",
      "0.535643 (0.028964) with: {'C': 1, 'gamma': 0.1, 'max_iter': 2000}\n",
      "0.494715 (0.025386) with: {'C': 1, 'gamma': 1, 'max_iter': 100}\n",
      "0.527223 (0.036331) with: {'C': 1, 'gamma': 1, 'max_iter': 500}\n",
      "0.519640 (0.028988) with: {'C': 1, 'gamma': 1, 'max_iter': 1000}\n",
      "0.535643 (0.028964) with: {'C': 1, 'gamma': 1, 'max_iter': 2000}\n",
      "0.494715 (0.025386) with: {'C': 1, 'gamma': 10, 'max_iter': 100}\n",
      "0.527223 (0.036331) with: {'C': 1, 'gamma': 10, 'max_iter': 500}\n",
      "0.519640 (0.028988) with: {'C': 1, 'gamma': 10, 'max_iter': 1000}\n",
      "0.535643 (0.028964) with: {'C': 1, 'gamma': 10, 'max_iter': 2000}\n",
      "0.494715 (0.025386) with: {'C': 10, 'gamma': 0.01, 'max_iter': 100}\n",
      "0.527223 (0.036331) with: {'C': 10, 'gamma': 0.01, 'max_iter': 500}\n",
      "0.519640 (0.028988) with: {'C': 10, 'gamma': 0.01, 'max_iter': 1000}\n",
      "0.535643 (0.028964) with: {'C': 10, 'gamma': 0.01, 'max_iter': 2000}\n",
      "0.494715 (0.025386) with: {'C': 10, 'gamma': 0.1, 'max_iter': 100}\n",
      "0.527223 (0.036331) with: {'C': 10, 'gamma': 0.1, 'max_iter': 500}\n",
      "0.519640 (0.028988) with: {'C': 10, 'gamma': 0.1, 'max_iter': 1000}\n",
      "0.535643 (0.028964) with: {'C': 10, 'gamma': 0.1, 'max_iter': 2000}\n",
      "0.494715 (0.025386) with: {'C': 10, 'gamma': 1, 'max_iter': 100}\n",
      "0.527223 (0.036331) with: {'C': 10, 'gamma': 1, 'max_iter': 500}\n",
      "0.519640 (0.028988) with: {'C': 10, 'gamma': 1, 'max_iter': 1000}\n",
      "0.535643 (0.028964) with: {'C': 10, 'gamma': 1, 'max_iter': 2000}\n",
      "0.494715 (0.025386) with: {'C': 10, 'gamma': 10, 'max_iter': 100}\n",
      "0.527223 (0.036331) with: {'C': 10, 'gamma': 10, 'max_iter': 500}\n",
      "0.519640 (0.028988) with: {'C': 10, 'gamma': 10, 'max_iter': 1000}\n",
      "0.535643 (0.028964) with: {'C': 10, 'gamma': 10, 'max_iter': 2000}\n"
     ]
    }
   ],
   "source": [
    "Linear_svm= SVC(kernel=\"linear\",probability=True)\n",
    "#max_iter- Hard limit on iterations within solver\n",
    "#gamma- Kernel coefficient for ‘rbf’ and ‘sigmoid’.\n",
    "#C- Regularization parameter\n",
    "grid = {\"max_iter\":[100,500,1000,2000],'C': [0.001,0.1,1,10], 'gamma': [0.01,0.1,1,10]}\n",
    "cv = StratifiedKFold(n_splits=5, random_state=None, shuffle=False)\n",
    "search = GridSearchCV(Linear_svm,grid, cv=cv, scoring=\"roc_auc\")\n",
    "results =search.fit(Xtrain_minmax, Y_train)\n",
    "# summarize results\n",
    "print(\"Best mean roc_auc score: %f using %s\" % (results.best_score_,results.best_params_))\n",
    "means = results.cv_results_[\"mean_test_score\"]\n",
    "stds = results.cv_results_[\"std_test_score\"]\n",
    "params =results.cv_results_[\"params\"]\n",
    "for mean, stdev, param in zip(means, stds, params):\n",
    "    print(\"%f (%f) with: %r\" % (mean, stdev, param))"
   ]
  },
  {
   "cell_type": "code",
   "execution_count": 38,
   "id": "13222feb",
   "metadata": {},
   "outputs": [
    {
     "name": "stdout",
     "output_type": "stream",
     "text": [
      "Mean of Accuracy across all folds: 0.692\n",
      "Standard Deviation of Accuracy across all folds: 0.007852812659593157\n",
      "Mean of AUCROC score across all folds: 0.5693862068758837\n",
      "Standard Deviation of AUC-ROC score across all folds: 0.03165378731319008\n",
      "Mean of AUCPR score across all folds: 0.7466077200542756\n",
      "Standard Deviation of AUC-PR score across all folds: 0.02229095779971516\n"
     ]
    }
   ],
   "source": [
    "strat_k_fold = StratifiedKFold(n_splits=5)\n",
    "strat_k_fold.get_n_splits(Xtrain_minmax, Y_train)\n",
    "StratifiedKFold(n_splits=5, random_state=None, shuffle=False)\n",
    "acc=[]\n",
    "auc_roc_score=[]\n",
    "auc_prec_score=[]\n",
    "for train_index, test_index in strat_k_fold.split(Xtrain_minmax, Y_train):\n",
    "    Xtr, Xte = Xtrain_minmax[train_index], Xtrain_minmax[test_index]\n",
    "    Ytr, Yte = Y_train[train_index], Y_train[test_index]\n",
    "    Linear_svm= SVC(kernel=\"linear\",probability=True,C=0.001, gamma=0.01,max_iter=500)#Defining the model with the best hyperparameters received after hyperparameter tuning. \n",
    "    Linear_svm.fit(Xtr,Ytr)#Training the model with training dataset\n",
    "    Yte_pred=Linear_svm.predict(Xte)\n",
    "    Yte_pred_proba=Linear_svm.predict_proba(Xte)\n",
    "    Acc=accuracy_score(Yte,Yte_pred)\n",
    "    acc.append(Acc)\n",
    "    auc_roc_score.append(_aucRoc(Yte,Yte_pred_proba[:,1]))\n",
    "    auc_prec_score.append(_aucPrec(Yte,Yte_pred_proba[:,1]))\n",
    "#Mean of accuracy\n",
    "print(\"Mean of Accuracy across all folds: \"+str(statistics.mean(acc)))\n",
    "#Standard Deviation of accuracy\n",
    "print(\"Standard Deviation of Accuracy across all folds: \"+str(statistics.stdev(acc)))\n",
    "#Mean of AUCROC\n",
    "print(\"Mean of AUCROC score across all folds: \"+str(statistics.mean(auc_roc_score)))\n",
    "#Standard Deviation of AUCROC\n",
    "print(\"Standard Deviation of AUC-ROC score across all folds: \"+str(statistics.stdev(auc_roc_score)))\n",
    "#Mean of AUCPR\n",
    "print(\"Mean of AUCPR score across all folds: \"+str(statistics.mean(auc_prec_score)))\n",
    "#Standard Deviation of AUCPR\n",
    "print(\"Standard Deviation of AUC-PR score across all folds: \"+str(statistics.stdev(auc_prec_score)))"
   ]
  },
  {
   "cell_type": "markdown",
   "id": "e9c9c498",
   "metadata": {},
   "source": [
    "# 6.  5-Fold Stratified cross validation Kernel SVM:"
   ]
  },
  {
   "cell_type": "code",
   "execution_count": 39,
   "id": "d1e3dd43",
   "metadata": {},
   "outputs": [
    {
     "name": "stdout",
     "output_type": "stream",
     "text": [
      "Best: 0.788511 using {'C': 10, 'gamma': 0.1, 'kernel': 'rbf', 'max_iter': 1000}\n",
      "0.511022 (0.032806) with: {'C': 0.001, 'gamma': 0.01, 'kernel': 'rbf', 'max_iter': 100}\n",
      "0.552814 (0.042559) with: {'C': 0.001, 'gamma': 0.01, 'kernel': 'rbf', 'max_iter': 500}\n",
      "0.716134 (0.032124) with: {'C': 0.001, 'gamma': 0.01, 'kernel': 'rbf', 'max_iter': 1000}\n",
      "0.716134 (0.032124) with: {'C': 0.001, 'gamma': 0.01, 'kernel': 'rbf', 'max_iter': 2000}\n",
      "0.517723 (0.039402) with: {'C': 0.001, 'gamma': 0.01, 'kernel': 'sigmoid', 'max_iter': 100}\n",
      "0.526669 (0.039319) with: {'C': 0.001, 'gamma': 0.01, 'kernel': 'sigmoid', 'max_iter': 500}\n",
      "0.526415 (0.041760) with: {'C': 0.001, 'gamma': 0.01, 'kernel': 'sigmoid', 'max_iter': 1000}\n",
      "0.526415 (0.041760) with: {'C': 0.001, 'gamma': 0.01, 'kernel': 'sigmoid', 'max_iter': 2000}\n",
      "0.593698 (0.013520) with: {'C': 0.001, 'gamma': 0.1, 'kernel': 'rbf', 'max_iter': 100}\n",
      "0.647908 (0.040623) with: {'C': 0.001, 'gamma': 0.1, 'kernel': 'rbf', 'max_iter': 500}\n",
      "0.767908 (0.016006) with: {'C': 0.001, 'gamma': 0.1, 'kernel': 'rbf', 'max_iter': 1000}\n",
      "0.768479 (0.015474) with: {'C': 0.001, 'gamma': 0.1, 'kernel': 'rbf', 'max_iter': 2000}\n",
      "0.510282 (0.042856) with: {'C': 0.001, 'gamma': 0.1, 'kernel': 'sigmoid', 'max_iter': 100}\n",
      "0.511189 (0.043002) with: {'C': 0.001, 'gamma': 0.1, 'kernel': 'sigmoid', 'max_iter': 500}\n",
      "0.511187 (0.042998) with: {'C': 0.001, 'gamma': 0.1, 'kernel': 'sigmoid', 'max_iter': 1000}\n",
      "0.511187 (0.042998) with: {'C': 0.001, 'gamma': 0.1, 'kernel': 'sigmoid', 'max_iter': 2000}\n",
      "0.653181 (0.028815) with: {'C': 0.001, 'gamma': 1, 'kernel': 'rbf', 'max_iter': 100}\n",
      "0.726865 (0.024820) with: {'C': 0.001, 'gamma': 1, 'kernel': 'rbf', 'max_iter': 500}\n",
      "0.525567 (0.007773) with: {'C': 0.001, 'gamma': 1, 'kernel': 'rbf', 'max_iter': 1000}\n",
      "0.530170 (0.007725) with: {'C': 0.001, 'gamma': 1, 'kernel': 'rbf', 'max_iter': 2000}\n",
      "0.499331 (0.006761) with: {'C': 0.001, 'gamma': 1, 'kernel': 'sigmoid', 'max_iter': 100}\n",
      "0.512045 (0.014189) with: {'C': 0.001, 'gamma': 1, 'kernel': 'sigmoid', 'max_iter': 500}\n",
      "0.504426 (0.017161) with: {'C': 0.001, 'gamma': 1, 'kernel': 'sigmoid', 'max_iter': 1000}\n",
      "0.504426 (0.017161) with: {'C': 0.001, 'gamma': 1, 'kernel': 'sigmoid', 'max_iter': 2000}\n",
      "0.640971 (0.023058) with: {'C': 0.001, 'gamma': 10, 'kernel': 'rbf', 'max_iter': 100}\n",
      "0.716791 (0.020644) with: {'C': 0.001, 'gamma': 10, 'kernel': 'rbf', 'max_iter': 500}\n",
      "0.525567 (0.007773) with: {'C': 0.001, 'gamma': 10, 'kernel': 'rbf', 'max_iter': 1000}\n",
      "0.530170 (0.007725) with: {'C': 0.001, 'gamma': 10, 'kernel': 'rbf', 'max_iter': 2000}\n",
      "0.500000 (0.000000) with: {'C': 0.001, 'gamma': 10, 'kernel': 'sigmoid', 'max_iter': 100}\n",
      "0.500000 (0.000000) with: {'C': 0.001, 'gamma': 10, 'kernel': 'sigmoid', 'max_iter': 500}\n",
      "0.500000 (0.000000) with: {'C': 0.001, 'gamma': 10, 'kernel': 'sigmoid', 'max_iter': 1000}\n",
      "0.500000 (0.000000) with: {'C': 0.001, 'gamma': 10, 'kernel': 'sigmoid', 'max_iter': 2000}\n",
      "0.519557 (0.025095) with: {'C': 0.1, 'gamma': 0.01, 'kernel': 'rbf', 'max_iter': 100}\n",
      "0.580452 (0.031510) with: {'C': 0.1, 'gamma': 0.01, 'kernel': 'rbf', 'max_iter': 500}\n",
      "0.733553 (0.026714) with: {'C': 0.1, 'gamma': 0.01, 'kernel': 'rbf', 'max_iter': 1000}\n",
      "0.738560 (0.023666) with: {'C': 0.1, 'gamma': 0.01, 'kernel': 'rbf', 'max_iter': 2000}\n",
      "0.519465 (0.039580) with: {'C': 0.1, 'gamma': 0.01, 'kernel': 'sigmoid', 'max_iter': 100}\n",
      "0.527403 (0.041219) with: {'C': 0.1, 'gamma': 0.01, 'kernel': 'sigmoid', 'max_iter': 500}\n",
      "0.526297 (0.041683) with: {'C': 0.1, 'gamma': 0.01, 'kernel': 'sigmoid', 'max_iter': 1000}\n",
      "0.526297 (0.041683) with: {'C': 0.1, 'gamma': 0.01, 'kernel': 'sigmoid', 'max_iter': 2000}\n",
      "0.637156 (0.017844) with: {'C': 0.1, 'gamma': 0.1, 'kernel': 'rbf', 'max_iter': 100}\n",
      "0.699989 (0.033786) with: {'C': 0.1, 'gamma': 0.1, 'kernel': 'rbf', 'max_iter': 500}\n",
      "0.780027 (0.016133) with: {'C': 0.1, 'gamma': 0.1, 'kernel': 'rbf', 'max_iter': 1000}\n",
      "0.761071 (0.023254) with: {'C': 0.1, 'gamma': 0.1, 'kernel': 'rbf', 'max_iter': 2000}\n",
      "0.510282 (0.042856) with: {'C': 0.1, 'gamma': 0.1, 'kernel': 'sigmoid', 'max_iter': 100}\n",
      "0.511189 (0.043002) with: {'C': 0.1, 'gamma': 0.1, 'kernel': 'sigmoid', 'max_iter': 500}\n",
      "0.511187 (0.042998) with: {'C': 0.1, 'gamma': 0.1, 'kernel': 'sigmoid', 'max_iter': 1000}\n",
      "0.511187 (0.042998) with: {'C': 0.1, 'gamma': 0.1, 'kernel': 'sigmoid', 'max_iter': 2000}\n",
      "0.653181 (0.028815) with: {'C': 0.1, 'gamma': 1, 'kernel': 'rbf', 'max_iter': 100}\n",
      "0.728310 (0.026394) with: {'C': 0.1, 'gamma': 1, 'kernel': 'rbf', 'max_iter': 500}\n",
      "0.535822 (0.008734) with: {'C': 0.1, 'gamma': 1, 'kernel': 'rbf', 'max_iter': 1000}\n",
      "0.541007 (0.008421) with: {'C': 0.1, 'gamma': 1, 'kernel': 'rbf', 'max_iter': 2000}\n",
      "0.505437 (0.004567) with: {'C': 0.1, 'gamma': 1, 'kernel': 'sigmoid', 'max_iter': 100}\n",
      "0.514626 (0.016100) with: {'C': 0.1, 'gamma': 1, 'kernel': 'sigmoid', 'max_iter': 500}\n",
      "0.507318 (0.018644) with: {'C': 0.1, 'gamma': 1, 'kernel': 'sigmoid', 'max_iter': 1000}\n",
      "0.507318 (0.018644) with: {'C': 0.1, 'gamma': 1, 'kernel': 'sigmoid', 'max_iter': 2000}\n",
      "0.640802 (0.023190) with: {'C': 0.1, 'gamma': 10, 'kernel': 'rbf', 'max_iter': 100}\n",
      "0.717122 (0.020586) with: {'C': 0.1, 'gamma': 10, 'kernel': 'rbf', 'max_iter': 500}\n",
      "0.525567 (0.007773) with: {'C': 0.1, 'gamma': 10, 'kernel': 'rbf', 'max_iter': 1000}\n",
      "0.531788 (0.007663) with: {'C': 0.1, 'gamma': 10, 'kernel': 'rbf', 'max_iter': 2000}\n",
      "0.500000 (0.000000) with: {'C': 0.1, 'gamma': 10, 'kernel': 'sigmoid', 'max_iter': 100}\n",
      "0.500000 (0.000000) with: {'C': 0.1, 'gamma': 10, 'kernel': 'sigmoid', 'max_iter': 500}\n",
      "0.500000 (0.000000) with: {'C': 0.1, 'gamma': 10, 'kernel': 'sigmoid', 'max_iter': 1000}\n",
      "0.500000 (0.000000) with: {'C': 0.1, 'gamma': 10, 'kernel': 'sigmoid', 'max_iter': 2000}\n",
      "0.529681 (0.043581) with: {'C': 1, 'gamma': 0.01, 'kernel': 'rbf', 'max_iter': 100}\n",
      "0.694149 (0.029989) with: {'C': 1, 'gamma': 0.01, 'kernel': 'rbf', 'max_iter': 500}\n",
      "0.733846 (0.025474) with: {'C': 1, 'gamma': 0.01, 'kernel': 'rbf', 'max_iter': 1000}\n",
      "0.738961 (0.023589) with: {'C': 1, 'gamma': 0.01, 'kernel': 'rbf', 'max_iter': 2000}\n",
      "0.519448 (0.039652) with: {'C': 1, 'gamma': 0.01, 'kernel': 'sigmoid', 'max_iter': 100}\n",
      "0.533381 (0.038182) with: {'C': 1, 'gamma': 0.01, 'kernel': 'sigmoid', 'max_iter': 500}\n",
      "0.533763 (0.038036) with: {'C': 1, 'gamma': 0.01, 'kernel': 'sigmoid', 'max_iter': 1000}\n",
      "0.533763 (0.038036) with: {'C': 1, 'gamma': 0.01, 'kernel': 'sigmoid', 'max_iter': 2000}\n",
      "0.635472 (0.028291) with: {'C': 1, 'gamma': 0.1, 'kernel': 'rbf', 'max_iter': 100}\n",
      "0.754489 (0.019245) with: {'C': 1, 'gamma': 0.1, 'kernel': 'rbf', 'max_iter': 500}\n",
      "0.784605 (0.014609) with: {'C': 1, 'gamma': 0.1, 'kernel': 'rbf', 'max_iter': 1000}\n",
      "0.761167 (0.022945) with: {'C': 1, 'gamma': 0.1, 'kernel': 'rbf', 'max_iter': 2000}\n",
      "0.510282 (0.042856) with: {'C': 1, 'gamma': 0.1, 'kernel': 'sigmoid', 'max_iter': 100}\n",
      "0.511189 (0.043002) with: {'C': 1, 'gamma': 0.1, 'kernel': 'sigmoid', 'max_iter': 500}\n",
      "0.511187 (0.042998) with: {'C': 1, 'gamma': 0.1, 'kernel': 'sigmoid', 'max_iter': 1000}\n",
      "0.511187 (0.042998) with: {'C': 1, 'gamma': 0.1, 'kernel': 'sigmoid', 'max_iter': 2000}\n",
      "0.650908 (0.029694) with: {'C': 1, 'gamma': 1, 'kernel': 'rbf', 'max_iter': 100}\n",
      "0.731204 (0.024879) with: {'C': 1, 'gamma': 1, 'kernel': 'rbf', 'max_iter': 500}\n",
      "0.551924 (0.012456) with: {'C': 1, 'gamma': 1, 'kernel': 'rbf', 'max_iter': 1000}\n",
      "0.555979 (0.010684) with: {'C': 1, 'gamma': 1, 'kernel': 'rbf', 'max_iter': 2000}\n",
      "0.500942 (0.004789) with: {'C': 1, 'gamma': 1, 'kernel': 'sigmoid', 'max_iter': 100}\n",
      "0.511034 (0.014018) with: {'C': 1, 'gamma': 1, 'kernel': 'sigmoid', 'max_iter': 500}\n",
      "0.508790 (0.015778) with: {'C': 1, 'gamma': 1, 'kernel': 'sigmoid', 'max_iter': 1000}\n",
      "0.508790 (0.015778) with: {'C': 1, 'gamma': 1, 'kernel': 'sigmoid', 'max_iter': 2000}\n",
      "0.640413 (0.022989) with: {'C': 1, 'gamma': 10, 'kernel': 'rbf', 'max_iter': 100}\n",
      "0.717118 (0.020582) with: {'C': 1, 'gamma': 10, 'kernel': 'rbf', 'max_iter': 500}\n",
      "0.525567 (0.007773) with: {'C': 1, 'gamma': 10, 'kernel': 'rbf', 'max_iter': 1000}\n",
      "0.531788 (0.007663) with: {'C': 1, 'gamma': 10, 'kernel': 'rbf', 'max_iter': 2000}\n",
      "0.500000 (0.000000) with: {'C': 1, 'gamma': 10, 'kernel': 'sigmoid', 'max_iter': 100}\n",
      "0.500000 (0.000000) with: {'C': 1, 'gamma': 10, 'kernel': 'sigmoid', 'max_iter': 500}\n",
      "0.500000 (0.000000) with: {'C': 1, 'gamma': 10, 'kernel': 'sigmoid', 'max_iter': 1000}\n",
      "0.500000 (0.000000) with: {'C': 1, 'gamma': 10, 'kernel': 'sigmoid', 'max_iter': 2000}\n",
      "0.568479 (0.040423) with: {'C': 10, 'gamma': 0.01, 'kernel': 'rbf', 'max_iter': 100}\n",
      "0.705297 (0.029060) with: {'C': 10, 'gamma': 0.01, 'kernel': 'rbf', 'max_iter': 500}\n",
      "0.749261 (0.017626) with: {'C': 10, 'gamma': 0.01, 'kernel': 'rbf', 'max_iter': 1000}\n",
      "0.755894 (0.017087) with: {'C': 10, 'gamma': 0.01, 'kernel': 'rbf', 'max_iter': 2000}\n",
      "0.519309 (0.039641) with: {'C': 10, 'gamma': 0.01, 'kernel': 'sigmoid', 'max_iter': 100}\n",
      "0.533563 (0.038023) with: {'C': 10, 'gamma': 0.01, 'kernel': 'sigmoid', 'max_iter': 500}\n",
      "0.533812 (0.037921) with: {'C': 10, 'gamma': 0.01, 'kernel': 'sigmoid', 'max_iter': 1000}\n",
      "0.533812 (0.037921) with: {'C': 10, 'gamma': 0.01, 'kernel': 'sigmoid', 'max_iter': 2000}\n",
      "0.611258 (0.025103) with: {'C': 10, 'gamma': 0.1, 'kernel': 'rbf', 'max_iter': 100}\n",
      "0.752242 (0.023611) with: {'C': 10, 'gamma': 0.1, 'kernel': 'rbf', 'max_iter': 500}\n",
      "0.788511 (0.009116) with: {'C': 10, 'gamma': 0.1, 'kernel': 'rbf', 'max_iter': 1000}\n",
      "0.788166 (0.017769) with: {'C': 10, 'gamma': 0.1, 'kernel': 'rbf', 'max_iter': 2000}\n",
      "0.510282 (0.042856) with: {'C': 10, 'gamma': 0.1, 'kernel': 'sigmoid', 'max_iter': 100}\n",
      "0.511189 (0.043002) with: {'C': 10, 'gamma': 0.1, 'kernel': 'sigmoid', 'max_iter': 500}\n",
      "0.511187 (0.042998) with: {'C': 10, 'gamma': 0.1, 'kernel': 'sigmoid', 'max_iter': 1000}\n",
      "0.511187 (0.042998) with: {'C': 10, 'gamma': 0.1, 'kernel': 'sigmoid', 'max_iter': 2000}\n",
      "0.652125 (0.029040) with: {'C': 10, 'gamma': 1, 'kernel': 'rbf', 'max_iter': 100}\n",
      "0.731074 (0.025001) with: {'C': 10, 'gamma': 1, 'kernel': 'rbf', 'max_iter': 500}\n",
      "0.555438 (0.016076) with: {'C': 10, 'gamma': 1, 'kernel': 'rbf', 'max_iter': 1000}\n",
      "0.558072 (0.010791) with: {'C': 10, 'gamma': 1, 'kernel': 'rbf', 'max_iter': 2000}\n",
      "0.500359 (0.007131) with: {'C': 10, 'gamma': 1, 'kernel': 'sigmoid', 'max_iter': 100}\n",
      "0.508612 (0.017559) with: {'C': 10, 'gamma': 1, 'kernel': 'sigmoid', 'max_iter': 500}\n",
      "0.509113 (0.018691) with: {'C': 10, 'gamma': 1, 'kernel': 'sigmoid', 'max_iter': 1000}\n",
      "0.509113 (0.018691) with: {'C': 10, 'gamma': 1, 'kernel': 'sigmoid', 'max_iter': 2000}\n",
      "0.640413 (0.022989) with: {'C': 10, 'gamma': 10, 'kernel': 'rbf', 'max_iter': 100}\n",
      "0.717118 (0.020582) with: {'C': 10, 'gamma': 10, 'kernel': 'rbf', 'max_iter': 500}\n",
      "0.525567 (0.007773) with: {'C': 10, 'gamma': 10, 'kernel': 'rbf', 'max_iter': 1000}\n",
      "0.531788 (0.007663) with: {'C': 10, 'gamma': 10, 'kernel': 'rbf', 'max_iter': 2000}\n",
      "0.500000 (0.000000) with: {'C': 10, 'gamma': 10, 'kernel': 'sigmoid', 'max_iter': 100}\n",
      "0.500000 (0.000000) with: {'C': 10, 'gamma': 10, 'kernel': 'sigmoid', 'max_iter': 500}\n",
      "0.500000 (0.000000) with: {'C': 10, 'gamma': 10, 'kernel': 'sigmoid', 'max_iter': 1000}\n",
      "0.500000 (0.000000) with: {'C': 10, 'gamma': 10, 'kernel': 'sigmoid', 'max_iter': 2000}\n"
     ]
    }
   ],
   "source": [
    "kernel_svm= SVC(probability=True)\n",
    "#max_iter- Hard limit on iterations within solver\n",
    "#gamma- Kernel coefficient for ‘rbf’ and ‘sigmoid’.\n",
    "#C- Regularization parameter\n",
    "#kernel- Specifies the kernel type to be used in the algorithm\n",
    "grid= {\"max_iter\":[100,500,1000,2000],'C': [0.001,0.1,1,10], 'gamma': [0.01,0.1,1,10],'kernel': ['rbf', 'sigmoid']}\n",
    "cv = StratifiedKFold(n_splits=5, random_state=None, shuffle=False)\n",
    "search = GridSearchCV(kernel_svm,grid,cv=cv, scoring=\"roc_auc\")\n",
    "results =search.fit(Xtrain_minmax, Y_train)\n",
    "# summarize results\n",
    "print(\"Best: %f using %s\" % (results.best_score_,results.best_params_))\n",
    "means = results.cv_results_[\"mean_test_score\"]\n",
    "stds = results.cv_results_[\"std_test_score\"]\n",
    "params =results.cv_results_[\"params\"]\n",
    "for mean, stdev, param in zip(means, stds, params):\n",
    "    print(\"%f (%f) with: %r\" % (mean, stdev, param))"
   ]
  },
  {
   "cell_type": "code",
   "execution_count": 40,
   "id": "ce743223",
   "metadata": {},
   "outputs": [
    {
     "name": "stdout",
     "output_type": "stream",
     "text": [
      "Mean of Accuracy across all folds: 0.7136666666666667\n",
      "Standard Deviation of Accuracy across all folds: 0.003979112128771101\n",
      "Mean of AUCROC score across all folds: 0.7885105290619591\n",
      "Standard Deviation of AUC-ROC score across all folds: 0.010192384961864821\n",
      "Mean of AUCPR score across all folds: 0.8877269039194822\n",
      "Standard Deviation of AUC-PR score across all folds: 0.015095228497608516\n"
     ]
    }
   ],
   "source": [
    "strat_k_fold = StratifiedKFold(n_splits=5)\n",
    "strat_k_fold.get_n_splits(Xtrain_minmax, Y_train)\n",
    "StratifiedKFold(n_splits=5, random_state=None, shuffle=False)\n",
    "acc=[]\n",
    "auc_roc_score=[]\n",
    "auc_prec_score=[]\n",
    "for train_index, test_index in strat_k_fold.split(Xtrain_minmax, Y_train):\n",
    "    Xtr, Xte = Xtrain_minmax[train_index], Xtrain_minmax[test_index]\n",
    "    Ytr, Yte = Y_train[train_index], Y_train[test_index]\n",
    "    kernel_svm= SVC(kernel=\"rbf\",C=10,gamma=0.1,probability=True,max_iter=1000)#Defining the classifier with the best hyperparameters recieved after hyperparameter tuning.\n",
    "    kernel_svm.fit(Xtr,Ytr)\n",
    "    Yte_pred=kernel_svm.predict(Xte)\n",
    "    Yte_pred_proba=kernel_svm.predict_proba(Xte)\n",
    "    Acc=accuracy_score(Yte,Yte_pred)\n",
    "    acc.append(Acc)\n",
    "    auc_roc_score.append(_aucRoc(Yte,Yte_pred_proba[:,1]))\n",
    "    auc_prec_score.append(_aucPrec(Yte,Yte_pred_proba[:,1]))\n",
    "#Mean of accuracy\n",
    "print(\"Mean of Accuracy across all folds: \"+str(statistics.mean(acc)))\n",
    "#Standard Deviation of accuracy\n",
    "print(\"Standard Deviation of Accuracy across all folds: \"+str(statistics.stdev(acc)))\n",
    "#Mean of AUCROC\n",
    "print(\"Mean of AUCROC score across all folds: \"+str(statistics.mean(auc_roc_score)))\n",
    "#Standard Deviation of AUCROC\n",
    "print(\"Standard Deviation of AUC-ROC score across all folds: \"+str(statistics.stdev(auc_roc_score)))\n",
    "#Mean of AUCPR\n",
    "print(\"Mean of AUCPR score across all folds: \"+str(statistics.mean(auc_prec_score)))\n",
    "#Standard Deviation of AUCPR\n",
    "print(\"Standard Deviation of AUC-PR score across all folds: \"+str(statistics.stdev(auc_prec_score)))"
   ]
  },
  {
   "cell_type": "markdown",
   "id": "d8bcb7d0",
   "metadata": {},
   "source": [
    "### Mean and Standard deviation of Accuracy, AUC-ROC and AUC-PR for different classifiers:\n",
    "| Classifiers ↓ | Mean Acc. | Std.dev Acc. | Mean AUC-ROC | Std.dev AUC-ROC |  Mean AUC-PR | Std.dev AUC-PR |\n",
    "| --- | --- | --- | --- | --- | --- | --- |  \n",
    "|KNN             | 0.758 | 0.0066 | 0.772 | 0.0128| 0.896 | 0.0088|\n",
    "|Perceptron      | 0.600 | 0.1138 | 0.548 | 0.0219| 0.741 | 0.0150|\n",
    "|GaussianNB      | 0.552 | 0.0413 | 0.569 | 0.0441| 0.767 | 0.0367|\n",
    "|Log. Regression | 0.701 | 0.0004 | 0.596 | 0.0423| 0.768 | 0.0238|\n",
    "|Linear SVM      | 0.692 | 0.0078 | 0.569 | 0.0316| 0.746 | 0.0223|\n",
    "|Kernel SVM      | 0.714 | 0.0034 | 0.788 | 0.0102| 0.888 | 0.0152|"
   ]
  },
  {
   "cell_type": "markdown",
   "id": "08b44bf0",
   "metadata": {},
   "source": [
    "# Question No. 4: PCA"
   ]
  },
  {
   "cell_type": "markdown",
   "id": "f77e045b",
   "metadata": {},
   "source": [
    "## i. Reducing the number of dimensions of the data using PCA to 2 and plot a scatter plot of the training data"
   ]
  },
  {
   "cell_type": "code",
   "execution_count": 41,
   "id": "16381288",
   "metadata": {},
   "outputs": [
    {
     "data": {
      "image/png": "[encoded data removed]",
      "text/plain": [
       "<Figure size 576x576 with 1 Axes>"
      ]
     },
     "metadata": {},
     "output_type": "display_data"
    }
   ],
   "source": [
    "#Principle Component Analysis (PCA) is effected by scale so you need to scale the features in your data before applying PCA.\n",
    "#Applying StandardScaler on the training dataset.\n",
    "Xtrain_scaler=preprocessing.StandardScaler().fit(X_train)\n",
    "Xtrain_scaled =Xtrain_scaler.transform(X_train)\n",
    "#Performing PCA\n",
    "pca = PCA(n_components=2)\n",
    "Dimensions = pca.fit_transform(Xtrain_scaled)\n",
    "Labels=pd.DataFrame(Y_train, columns=[\"Labels\"])\n",
    "Initial =pd.DataFrame(data = Dimensions, columns = [\"Principal Component- 1\", \"Principal Component- 2\"])\n",
    "Final =pd.concat([Initial, Labels], axis = 1)\n",
    "#Scatterplot\n",
    "fig = plt.figure(figsize = (8,8))\n",
    "ax = fig.add_subplot(1,1,1) \n",
    "ax.set_xlabel('Principal Component- 1', fontsize = 15)\n",
    "ax.set_ylabel('Principal Component- 2', fontsize = 15)\n",
    "ax.set_title('Dimensions reduced to 2', fontsize = 20)\n",
    "targets = [+1, -1]\n",
    "colors = ['purple','pink']\n",
    "for target, color in zip(targets,colors):\n",
    "    indicesToKeep = Final['Labels'] == target\n",
    "    ax.scatter(Final.loc[indicesToKeep, 'Principal Component- 1']\n",
    "               , Final.loc[indicesToKeep, 'Principal Component- 2']\n",
    "               , c = color\n",
    "               , s = 50)\n",
    "ax.legend(targets)\n",
    "ax.grid()\n"
   ]
  },
  {
   "cell_type": "markdown",
   "id": "24ac5c0d",
   "metadata": {},
   "source": [
    "### Answer:\n",
    "### In this principle component analysis, we reduced the total dimensions to just 2. After plotting the graphs between principle componet-1 and principle component-2, we can see that we are not able to get two distingused clusters for +1 class and -1 class. This means that two components are not to separate +1 class from -1 class. We need more components/dimensions in order to achieve better results. "
   ]
  },
  {
   "cell_type": "markdown",
   "id": "29abfbbc",
   "metadata": {},
   "source": [
    "## ii. Plotting the scree graph of PCA and find the number of dimensions that explain 95% variance in the training set. "
   ]
  },
  {
   "cell_type": "code",
   "execution_count": 42,
   "id": "ea9fbd60",
   "metadata": {},
   "outputs": [
    {
     "name": "stdout",
     "output_type": "stream",
     "text": [
      "(3000, 784)\n",
      "(3000, 784)\n"
     ]
    },
    {
     "data": {
      "image/png": "[encoded data removed]",
      "text/plain": [
       "<Figure size 576x396 with 1 Axes>"
      ]
     },
     "metadata": {},
     "output_type": "display_data"
    },
    {
     "data": {
      "image/png": "[encoded data removed]",
      "text/plain": [
       "<Figure size 576x396 with 1 Axes>"
      ]
     },
     "metadata": {},
     "output_type": "display_data"
    }
   ],
   "source": [
    "PCA784 = PCA(n_components=784)\n",
    "PCA784.fit(Xtrain_scaled) #training PCA\n",
    "projected = PCA784.transform(Xtrain_scaled) #projecting the data onto Principal components\n",
    "print(Xtrain_scaled.shape)\n",
    "print(projected.shape)\n",
    "plt.plot(PCA784.explained_variance_,color='purple')\n",
    "plt.grid()\n",
    "plt.xlabel('Explained Variance')\n",
    "plt.figure()\n",
    "plt.plot(np.arange(len(PCA784.explained_variance_ratio_))+1,np.cumsum(PCA784.explained_variance_ratio_),'o-',color='purple') #plot the scree graph\n",
    "plt.axis([1,len(PCA784.explained_variance_ratio_),0,1])\n",
    "plt.xlabel('number of components')\n",
    "plt.ylabel('cumulative explained variance');\n",
    "plt.title('Scree Graph')\n",
    "plt.grid()\n",
    "plt.show()\n"
   ]
  },
  {
   "cell_type": "code",
   "execution_count": 43,
   "id": "ea67a0b4",
   "metadata": {},
   "outputs": [
    {
     "name": "stdout",
     "output_type": "stream",
     "text": [
      "Number of dimensions that explain 95% variance in the training set: 529\n"
     ]
    }
   ],
   "source": [
    "PCA_var=PCA(0.95)\n",
    "PCA_var.fit(Xtrain_scaled)\n",
    "print(\"Number of dimensions that explain 95% variance in the training set:\",PCA_var.n_components_)"
   ]
  },
  {
   "cell_type": "markdown",
   "id": "15f025db",
   "metadata": {},
   "source": [
    "## iii. Reducing the number of dimensions of the data using PCA and performing classification."
   ]
  },
  {
   "cell_type": "code",
   "execution_count": 44,
   "id": "c9137895",
   "metadata": {},
   "outputs": [
    {
     "name": "stdout",
     "output_type": "stream",
     "text": [
      "Best: 0.771662 using {'C': 10, 'gamma': 0.01, 'kernel': 'rbf', 'max_iter': 2000}\n",
      "0.591935 (0.027912) with: {'C': 0.001, 'gamma': 0.01, 'kernel': 'rbf', 'max_iter': 100}\n",
      "0.645411 (0.047286) with: {'C': 0.001, 'gamma': 0.01, 'kernel': 'rbf', 'max_iter': 500}\n",
      "0.751374 (0.015655) with: {'C': 0.001, 'gamma': 0.01, 'kernel': 'rbf', 'max_iter': 1000}\n",
      "0.752824 (0.014205) with: {'C': 0.001, 'gamma': 0.01, 'kernel': 'rbf', 'max_iter': 2000}\n",
      "0.483256 (0.036711) with: {'C': 0.001, 'gamma': 0.01, 'kernel': 'sigmoid', 'max_iter': 100}\n",
      "0.453139 (0.038194) with: {'C': 0.001, 'gamma': 0.01, 'kernel': 'sigmoid', 'max_iter': 500}\n",
      "0.389859 (0.025304) with: {'C': 0.001, 'gamma': 0.01, 'kernel': 'sigmoid', 'max_iter': 1000}\n",
      "0.416446 (0.020235) with: {'C': 0.001, 'gamma': 0.01, 'kernel': 'sigmoid', 'max_iter': 2000}\n",
      "0.645031 (0.024902) with: {'C': 0.001, 'gamma': 0.1, 'kernel': 'rbf', 'max_iter': 100}\n",
      "0.722358 (0.024316) with: {'C': 0.001, 'gamma': 0.1, 'kernel': 'rbf', 'max_iter': 500}\n",
      "0.525567 (0.007773) with: {'C': 0.001, 'gamma': 0.1, 'kernel': 'rbf', 'max_iter': 1000}\n",
      "0.530170 (0.007725) with: {'C': 0.001, 'gamma': 0.1, 'kernel': 'rbf', 'max_iter': 2000}\n",
      "0.467718 (0.033231) with: {'C': 0.001, 'gamma': 0.1, 'kernel': 'sigmoid', 'max_iter': 100}\n",
      "0.459300 (0.023550) with: {'C': 0.001, 'gamma': 0.1, 'kernel': 'sigmoid', 'max_iter': 500}\n",
      "0.449420 (0.014185) with: {'C': 0.001, 'gamma': 0.1, 'kernel': 'sigmoid', 'max_iter': 1000}\n",
      "0.449077 (0.014469) with: {'C': 0.001, 'gamma': 0.1, 'kernel': 'sigmoid', 'max_iter': 2000}\n",
      "0.620241 (0.024594) with: {'C': 0.001, 'gamma': 1, 'kernel': 'rbf', 'max_iter': 100}\n",
      "0.707832 (0.019696) with: {'C': 0.001, 'gamma': 1, 'kernel': 'rbf', 'max_iter': 500}\n",
      "0.525567 (0.007773) with: {'C': 0.001, 'gamma': 1, 'kernel': 'rbf', 'max_iter': 1000}\n",
      "0.530170 (0.007725) with: {'C': 0.001, 'gamma': 1, 'kernel': 'rbf', 'max_iter': 2000}\n",
      "0.469353 (0.024092) with: {'C': 0.001, 'gamma': 1, 'kernel': 'sigmoid', 'max_iter': 100}\n",
      "0.452392 (0.022687) with: {'C': 0.001, 'gamma': 1, 'kernel': 'sigmoid', 'max_iter': 500}\n",
      "0.438220 (0.026791) with: {'C': 0.001, 'gamma': 1, 'kernel': 'sigmoid', 'max_iter': 1000}\n",
      "0.438220 (0.026791) with: {'C': 0.001, 'gamma': 1, 'kernel': 'sigmoid', 'max_iter': 2000}\n",
      "0.505137 (0.002739) with: {'C': 0.001, 'gamma': 10, 'kernel': 'rbf', 'max_iter': 100}\n",
      "0.516540 (0.004486) with: {'C': 0.001, 'gamma': 10, 'kernel': 'rbf', 'max_iter': 500}\n",
      "0.525567 (0.007773) with: {'C': 0.001, 'gamma': 10, 'kernel': 'rbf', 'max_iter': 1000}\n",
      "0.530170 (0.007725) with: {'C': 0.001, 'gamma': 10, 'kernel': 'rbf', 'max_iter': 2000}\n",
      "0.473733 (0.027563) with: {'C': 0.001, 'gamma': 10, 'kernel': 'sigmoid', 'max_iter': 100}\n",
      "0.463218 (0.025162) with: {'C': 0.001, 'gamma': 10, 'kernel': 'sigmoid', 'max_iter': 500}\n",
      "0.450956 (0.012461) with: {'C': 0.001, 'gamma': 10, 'kernel': 'sigmoid', 'max_iter': 1000}\n",
      "0.454056 (0.014002) with: {'C': 0.001, 'gamma': 10, 'kernel': 'sigmoid', 'max_iter': 2000}\n",
      "0.617090 (0.011495) with: {'C': 0.1, 'gamma': 0.01, 'kernel': 'rbf', 'max_iter': 100}\n",
      "0.695496 (0.037291) with: {'C': 0.1, 'gamma': 0.01, 'kernel': 'rbf', 'max_iter': 500}\n",
      "0.761927 (0.015842) with: {'C': 0.1, 'gamma': 0.01, 'kernel': 'rbf', 'max_iter': 1000}\n",
      "0.744288 (0.024956) with: {'C': 0.1, 'gamma': 0.01, 'kernel': 'rbf', 'max_iter': 2000}\n",
      "0.478461 (0.038904) with: {'C': 0.1, 'gamma': 0.01, 'kernel': 'sigmoid', 'max_iter': 100}\n",
      "0.455891 (0.025792) with: {'C': 0.1, 'gamma': 0.01, 'kernel': 'sigmoid', 'max_iter': 500}\n",
      "0.438411 (0.022787) with: {'C': 0.1, 'gamma': 0.01, 'kernel': 'sigmoid', 'max_iter': 1000}\n",
      "0.438411 (0.022787) with: {'C': 0.1, 'gamma': 0.01, 'kernel': 'sigmoid', 'max_iter': 2000}\n",
      "0.645031 (0.024902) with: {'C': 0.1, 'gamma': 0.1, 'kernel': 'rbf', 'max_iter': 100}\n",
      "0.722358 (0.024316) with: {'C': 0.1, 'gamma': 0.1, 'kernel': 'rbf', 'max_iter': 500}\n",
      "0.525567 (0.007773) with: {'C': 0.1, 'gamma': 0.1, 'kernel': 'rbf', 'max_iter': 1000}\n",
      "0.531788 (0.007663) with: {'C': 0.1, 'gamma': 0.1, 'kernel': 'rbf', 'max_iter': 2000}\n",
      "0.467718 (0.033231) with: {'C': 0.1, 'gamma': 0.1, 'kernel': 'sigmoid', 'max_iter': 100}\n",
      "0.460704 (0.023525) with: {'C': 0.1, 'gamma': 0.1, 'kernel': 'sigmoid', 'max_iter': 500}\n",
      "0.457267 (0.014447) with: {'C': 0.1, 'gamma': 0.1, 'kernel': 'sigmoid', 'max_iter': 1000}\n",
      "0.462459 (0.011929) with: {'C': 0.1, 'gamma': 0.1, 'kernel': 'sigmoid', 'max_iter': 2000}\n",
      "0.620521 (0.025239) with: {'C': 0.1, 'gamma': 1, 'kernel': 'rbf', 'max_iter': 100}\n",
      "0.708035 (0.019495) with: {'C': 0.1, 'gamma': 1, 'kernel': 'rbf', 'max_iter': 500}\n",
      "0.525567 (0.007773) with: {'C': 0.1, 'gamma': 1, 'kernel': 'rbf', 'max_iter': 1000}\n",
      "0.531788 (0.007663) with: {'C': 0.1, 'gamma': 1, 'kernel': 'rbf', 'max_iter': 2000}\n",
      "0.469353 (0.024092) with: {'C': 0.1, 'gamma': 1, 'kernel': 'sigmoid', 'max_iter': 100}\n",
      "0.452119 (0.021908) with: {'C': 0.1, 'gamma': 1, 'kernel': 'sigmoid', 'max_iter': 500}\n",
      "0.444817 (0.024015) with: {'C': 0.1, 'gamma': 1, 'kernel': 'sigmoid', 'max_iter': 1000}\n",
      "0.444817 (0.024015) with: {'C': 0.1, 'gamma': 1, 'kernel': 'sigmoid', 'max_iter': 2000}\n",
      "0.505137 (0.002739) with: {'C': 0.1, 'gamma': 10, 'kernel': 'rbf', 'max_iter': 100}\n",
      "0.516540 (0.004486) with: {'C': 0.1, 'gamma': 10, 'kernel': 'rbf', 'max_iter': 500}\n",
      "0.525567 (0.007773) with: {'C': 0.1, 'gamma': 10, 'kernel': 'rbf', 'max_iter': 1000}\n",
      "0.531788 (0.007663) with: {'C': 0.1, 'gamma': 10, 'kernel': 'rbf', 'max_iter': 2000}\n",
      "0.473741 (0.027570) with: {'C': 0.1, 'gamma': 10, 'kernel': 'sigmoid', 'max_iter': 100}\n",
      "0.463571 (0.025230) with: {'C': 0.1, 'gamma': 10, 'kernel': 'sigmoid', 'max_iter': 500}\n",
      "0.460524 (0.012219) with: {'C': 0.1, 'gamma': 10, 'kernel': 'sigmoid', 'max_iter': 1000}\n",
      "0.463490 (0.011366) with: {'C': 0.1, 'gamma': 10, 'kernel': 'sigmoid', 'max_iter': 2000}\n",
      "0.627350 (0.043490) with: {'C': 1, 'gamma': 0.01, 'kernel': 'rbf', 'max_iter': 100}\n",
      "0.733037 (0.031717) with: {'C': 1, 'gamma': 0.01, 'kernel': 'rbf', 'max_iter': 500}\n",
      "0.764544 (0.016572) with: {'C': 1, 'gamma': 0.01, 'kernel': 'rbf', 'max_iter': 1000}\n",
      "0.744755 (0.023850) with: {'C': 1, 'gamma': 0.01, 'kernel': 'rbf', 'max_iter': 2000}\n",
      "0.483012 (0.022661) with: {'C': 1, 'gamma': 0.01, 'kernel': 'sigmoid', 'max_iter': 100}\n",
      "0.449081 (0.020317) with: {'C': 1, 'gamma': 0.01, 'kernel': 'sigmoid', 'max_iter': 500}\n",
      "0.440966 (0.023399) with: {'C': 1, 'gamma': 0.01, 'kernel': 'sigmoid', 'max_iter': 1000}\n",
      "0.440966 (0.023399) with: {'C': 1, 'gamma': 0.01, 'kernel': 'sigmoid', 'max_iter': 2000}\n",
      "0.645031 (0.024902) with: {'C': 1, 'gamma': 0.1, 'kernel': 'rbf', 'max_iter': 100}\n",
      "0.722304 (0.024259) with: {'C': 1, 'gamma': 0.1, 'kernel': 'rbf', 'max_iter': 500}\n",
      "0.528875 (0.008468) with: {'C': 1, 'gamma': 0.1, 'kernel': 'rbf', 'max_iter': 1000}\n",
      "0.533964 (0.008150) with: {'C': 1, 'gamma': 0.1, 'kernel': 'rbf', 'max_iter': 2000}\n",
      "0.467718 (0.033231) with: {'C': 1, 'gamma': 0.1, 'kernel': 'sigmoid', 'max_iter': 100}\n",
      "0.461153 (0.023776) with: {'C': 1, 'gamma': 0.1, 'kernel': 'sigmoid', 'max_iter': 500}\n",
      "0.461265 (0.015746) with: {'C': 1, 'gamma': 0.1, 'kernel': 'sigmoid', 'max_iter': 1000}\n",
      "0.464870 (0.014439) with: {'C': 1, 'gamma': 0.1, 'kernel': 'sigmoid', 'max_iter': 2000}\n",
      "0.621810 (0.025575) with: {'C': 1, 'gamma': 1, 'kernel': 'rbf', 'max_iter': 100}\n",
      "0.708055 (0.019858) with: {'C': 1, 'gamma': 1, 'kernel': 'rbf', 'max_iter': 500}\n",
      "0.525567 (0.007773) with: {'C': 1, 'gamma': 1, 'kernel': 'rbf', 'max_iter': 1000}\n",
      "0.531788 (0.007663) with: {'C': 1, 'gamma': 1, 'kernel': 'rbf', 'max_iter': 2000}\n",
      "0.469353 (0.024092) with: {'C': 1, 'gamma': 1, 'kernel': 'sigmoid', 'max_iter': 100}\n",
      "0.453363 (0.021494) with: {'C': 1, 'gamma': 1, 'kernel': 'sigmoid', 'max_iter': 500}\n",
      "0.447374 (0.023213) with: {'C': 1, 'gamma': 1, 'kernel': 'sigmoid', 'max_iter': 1000}\n",
      "0.447374 (0.023213) with: {'C': 1, 'gamma': 1, 'kernel': 'sigmoid', 'max_iter': 2000}\n",
      "0.505137 (0.002739) with: {'C': 1, 'gamma': 10, 'kernel': 'rbf', 'max_iter': 100}\n",
      "0.516540 (0.004486) with: {'C': 1, 'gamma': 10, 'kernel': 'rbf', 'max_iter': 500}\n",
      "0.525567 (0.007773) with: {'C': 1, 'gamma': 10, 'kernel': 'rbf', 'max_iter': 1000}\n",
      "0.531788 (0.007663) with: {'C': 1, 'gamma': 10, 'kernel': 'rbf', 'max_iter': 2000}\n",
      "0.473745 (0.027573) with: {'C': 1, 'gamma': 10, 'kernel': 'sigmoid', 'max_iter': 100}\n",
      "0.463262 (0.024655) with: {'C': 1, 'gamma': 10, 'kernel': 'sigmoid', 'max_iter': 500}\n",
      "0.463387 (0.013563) with: {'C': 1, 'gamma': 10, 'kernel': 'sigmoid', 'max_iter': 1000}\n",
      "0.465988 (0.013569) with: {'C': 1, 'gamma': 10, 'kernel': 'sigmoid', 'max_iter': 2000}\n",
      "0.612535 (0.029736) with: {'C': 10, 'gamma': 0.01, 'kernel': 'rbf', 'max_iter': 100}\n",
      "0.739789 (0.022934) with: {'C': 10, 'gamma': 0.01, 'kernel': 'rbf', 'max_iter': 500}\n",
      "0.766243 (0.012651) with: {'C': 10, 'gamma': 0.01, 'kernel': 'rbf', 'max_iter': 1000}\n",
      "0.771662 (0.020049) with: {'C': 10, 'gamma': 0.01, 'kernel': 'rbf', 'max_iter': 2000}\n",
      "0.466812 (0.036391) with: {'C': 10, 'gamma': 0.01, 'kernel': 'sigmoid', 'max_iter': 100}\n",
      "0.443653 (0.029132) with: {'C': 10, 'gamma': 0.01, 'kernel': 'sigmoid', 'max_iter': 500}\n",
      "0.441095 (0.024184) with: {'C': 10, 'gamma': 0.01, 'kernel': 'sigmoid', 'max_iter': 1000}\n",
      "0.441095 (0.024184) with: {'C': 10, 'gamma': 0.01, 'kernel': 'sigmoid', 'max_iter': 2000}\n",
      "0.641546 (0.024094) with: {'C': 10, 'gamma': 0.1, 'kernel': 'rbf', 'max_iter': 100}\n",
      "0.720021 (0.025722) with: {'C': 10, 'gamma': 0.1, 'kernel': 'rbf', 'max_iter': 500}\n",
      "0.528413 (0.008939) with: {'C': 10, 'gamma': 0.1, 'kernel': 'rbf', 'max_iter': 1000}\n",
      "0.534822 (0.008451) with: {'C': 10, 'gamma': 0.1, 'kernel': 'rbf', 'max_iter': 2000}\n",
      "0.467718 (0.033231) with: {'C': 10, 'gamma': 0.1, 'kernel': 'sigmoid', 'max_iter': 100}\n",
      "0.461443 (0.023072) with: {'C': 10, 'gamma': 0.1, 'kernel': 'sigmoid', 'max_iter': 500}\n",
      "0.461940 (0.015156) with: {'C': 10, 'gamma': 0.1, 'kernel': 'sigmoid', 'max_iter': 1000}\n",
      "0.465424 (0.014043) with: {'C': 10, 'gamma': 0.1, 'kernel': 'sigmoid', 'max_iter': 2000}\n",
      "0.621810 (0.025575) with: {'C': 10, 'gamma': 1, 'kernel': 'rbf', 'max_iter': 100}\n",
      "0.708055 (0.019858) with: {'C': 10, 'gamma': 1, 'kernel': 'rbf', 'max_iter': 500}\n",
      "0.525567 (0.007773) with: {'C': 10, 'gamma': 1, 'kernel': 'rbf', 'max_iter': 1000}\n",
      "0.531788 (0.007663) with: {'C': 10, 'gamma': 1, 'kernel': 'rbf', 'max_iter': 2000}\n",
      "0.469353 (0.024092) with: {'C': 10, 'gamma': 1, 'kernel': 'sigmoid', 'max_iter': 100}\n",
      "0.454537 (0.020954) with: {'C': 10, 'gamma': 1, 'kernel': 'sigmoid', 'max_iter': 500}\n",
      "0.447214 (0.023187) with: {'C': 10, 'gamma': 1, 'kernel': 'sigmoid', 'max_iter': 1000}\n",
      "0.447214 (0.023187) with: {'C': 10, 'gamma': 1, 'kernel': 'sigmoid', 'max_iter': 2000}\n",
      "0.505137 (0.002739) with: {'C': 10, 'gamma': 10, 'kernel': 'rbf', 'max_iter': 100}\n",
      "0.516540 (0.004486) with: {'C': 10, 'gamma': 10, 'kernel': 'rbf', 'max_iter': 500}\n",
      "0.525567 (0.007773) with: {'C': 10, 'gamma': 10, 'kernel': 'rbf', 'max_iter': 1000}\n",
      "0.531788 (0.007663) with: {'C': 10, 'gamma': 10, 'kernel': 'rbf', 'max_iter': 2000}\n",
      "0.473749 (0.027574) with: {'C': 10, 'gamma': 10, 'kernel': 'sigmoid', 'max_iter': 100}\n",
      "0.463567 (0.025790) with: {'C': 10, 'gamma': 10, 'kernel': 'sigmoid', 'max_iter': 500}\n",
      "0.462208 (0.012434) with: {'C': 10, 'gamma': 10, 'kernel': 'sigmoid', 'max_iter': 1000}\n",
      "0.464558 (0.012556) with: {'C': 10, 'gamma': 10, 'kernel': 'sigmoid', 'max_iter': 2000}\n"
     ]
    }
   ],
   "source": [
    "pca = PCA(n_components=529)\n",
    "Xtrain_scaled_pca= pca.fit_transform(Xtrain_scaled)\n",
    "kernel_svm= SVC()\n",
    "grid1= {\"max_iter\":[100,500,1000,2000],'C': [0.001,0.1,1,10], 'gamma': [0.01,0.1,1,10],'kernel': ['rbf', 'sigmoid']}\n",
    "cv = StratifiedKFold(n_splits=5, random_state=None, shuffle=False)\n",
    "search = GridSearchCV(kernel_svm,grid1,cv=cv, scoring=\"roc_auc\")\n",
    "results =search.fit(Xtrain_scaled_pca, Y_train)\n",
    "# summarize results\n",
    "print(\"Best: %f using %s\" % (results.best_score_,results.best_params_))\n",
    "means = results.cv_results_[\"mean_test_score\"]\n",
    "stds = results.cv_results_[\"std_test_score\"]\n",
    "params =results.cv_results_[\"params\"]\n",
    "for mean, stdev, param in zip(means, stds, params):\n",
    "    print(\"%f (%f) with: %r\" % (mean, stdev, param))"
   ]
  },
  {
   "cell_type": "code",
   "execution_count": 45,
   "id": "fbbb5c12",
   "metadata": {},
   "outputs": [
    {
     "name": "stdout",
     "output_type": "stream",
     "text": [
      "Mean of Accuracy across all folds: 0.7133333333333334\n",
      "Standard Deviation of Accuracy across all folds: 0.003333333333333355\n",
      "Mean of AUCROC score across all folds: 0.7716662489921486\n",
      "Standard Deviation of AUC-ROC score across all folds: 0.022412750278900096\n",
      "Mean of AUCPR score across all folds: 0.8840347289731746\n",
      "Standard Deviation of AUC-PR score across all folds: 0.011832014125868803\n"
     ]
    }
   ],
   "source": [
    "strat_k_fold = StratifiedKFold(n_splits=5)\n",
    "strat_k_fold.get_n_splits(Xtrain_scaled_pca, Y_train)\n",
    "StratifiedKFold(n_splits=5, random_state=None, shuffle=False)\n",
    "acc=[]\n",
    "auc_roc_score=[]\n",
    "auc_prec_score=[]\n",
    "for train_index, test_index in strat_k_fold.split(Xtrain_scaled_pca, Y_train):\n",
    "    Xtr, Xte = Xtrain_scaled_pca[train_index], Xtrain_scaled_pca[test_index]\n",
    "    Ytr, Yte = Y_train[train_index], Y_train[test_index]\n",
    "    kernel_svm= SVC(kernel=\"rbf\",C=10,gamma=0.01,probability=True,max_iter=2000)\n",
    "    kernel_svm.fit(Xtr,Ytr)\n",
    "    Yte_pred=kernel_svm.predict(Xte)\n",
    "    Yte_pred_proba=kernel_svm.predict_proba(Xte)\n",
    "    Acc=accuracy_score(Yte,Yte_pred)\n",
    "    acc.append(Acc)\n",
    "    auc_roc_score.append(_aucRoc(Yte,Yte_pred_proba[:,1]))\n",
    "    auc_prec_score.append(_aucPrec(Yte,Yte_pred_proba[:,1]))\n",
    "#Mean of accuracy\n",
    "print(\"Mean of Accuracy across all folds: \"+str(statistics.mean(acc)))\n",
    "#Standard Deviation of accuracy\n",
    "print(\"Standard Deviation of Accuracy across all folds: \"+str(statistics.stdev(acc)))\n",
    "#Mean of AUCROC\n",
    "print(\"Mean of AUCROC score across all folds: \"+str(statistics.mean(auc_roc_score)))\n",
    "#Standard Deviation of AUCROC\n",
    "print(\"Standard Deviation of AUC-ROC score across all folds: \"+str(statistics.stdev(auc_roc_score)))\n",
    "#Mean of AUCPR\n",
    "print(\"Mean of AUCPR score across all folds: \"+str(statistics.mean(auc_prec_score)))\n",
    "#Standard Deviation of AUCPR\n",
    "print(\"Standard Deviation of AUC-PR score across all folds: \"+str(statistics.stdev(auc_prec_score)))"
   ]
  },
  {
   "cell_type": "markdown",
   "id": "065d7f6e",
   "metadata": {},
   "source": [
    "### Mean and standard deviation of Accuracy, AUC-ROC and AUC-PR for SVM after performing PCA:\n",
    "| SVM | Accuracy | AUC-ROC | AUC-PR |\n",
    "| --- | --- | --- | --- |\n",
    "|Mean| 0.713 | 0.771 | 0.883 |\n",
    "|Std. dev. | 0.0033 | 0.0223 | 0.0126 | \n"
   ]
  },
  {
   "cell_type": "markdown",
   "id": "ad158f57",
   "metadata": {},
   "source": [
    "# Question No. 5 \n"
   ]
  },
  {
   "cell_type": "markdown",
   "id": "1f4b61f3",
   "metadata": {},
   "source": [
    "## Developing an optimal pipeline for classification based on my analysis."
   ]
  },
  {
   "cell_type": "code",
   "execution_count": 46,
   "id": "18267b3b",
   "metadata": {},
   "outputs": [],
   "source": [
    "from sklearn.pipeline import Pipeline\n",
    "from sklearn.svm import SVC\n",
    "X_train=np.loadtxt(\"Xtrain.txt\")#Loading the training sample data. \n",
    "X_test=np.loadtxt(\"Xtest.txt\")#Loading the testing sample data\n",
    "Y_train=np.loadtxt(\"Ytrain.txt\")#Loading the training sample dataset labels\n",
    "steps=[(\"Data Preprocessing\", preprocessing.MinMaxScaler()),(\"Principle Component Analysis(PCA)\",PCA(n_components=529)),(\"Model\",SVC(kernel=\"rbf\",C=10,gamma=0.01,probability=True,max_iter=2000))]\n",
    "pipeline=Pipeline(steps)\n",
    "pipeline.fit(X_train,Y_train)\n",
    "Ytest_pred_proba=pipeline.decision_function(X_test)\n",
    "#Creating the file to store the results\n",
    "file=open(\"u2154414.csv\",\"wt\")\n",
    "for i in range(len(Ytest_pred_proba)):\n",
    "    file.write(\"%s\\n\" % (Ytest_pred_proba[i]))\n",
    "file.close()"
   ]
  },
  {
   "cell_type": "code",
   "execution_count": null,
   "id": "374eb7eb",
   "metadata": {},
   "outputs": [],
   "source": []
  }
 ],
 "metadata": {
  "kernelspec": {
   "display_name": "Python 3",
   "language": "python",
   "name": "python3"
  },
  "language_info": {
   "codemirror_mode": {
    "name": "ipython",
    "version": 3
   },
   "file_extension": ".py",
   "mimetype": "text/x-python",
   "name": "python",
   "nbconvert_exporter": "python",
   "pygments_lexer": "ipython3",
   "version": "3.8.8"
  }
 },
 "nbformat": 4,
 "nbformat_minor": 5
}
